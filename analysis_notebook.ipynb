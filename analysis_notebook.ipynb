{
 "cells": [
  {
   "cell_type": "markdown",
   "id": "401d9d24",
   "metadata": {},
   "source": [
    "**Table of contents:**\n",
    "\n",
    "1. [Data Wrangling](#data-wrangling)<br><br>\n",
    "2. [EDA: Exploration Data Analysis](#eda-exploration-data-analysis)<br><br>\n",
    "3. [RFM as Behavioral Segmentation](#rfm-as-behavioral-segmentation )<br><br>"
   ]
  },
  {
   "cell_type": "code",
   "execution_count": 1,
   "id": "cf2a9db3",
   "metadata": {
    "ExecuteTime": {
     "end_time": "2024-11-20T05:04:09.789379Z",
     "start_time": "2024-11-20T05:04:06.543379Z"
    },
    "scrolled": true
   },
   "outputs": [
    {
     "name": "stdout",
     "output_type": "stream",
     "text": [
      "Requirement already satisfied: pycountry in /opt/conda/lib/python3.9/site-packages (24.6.1)\n",
      "Note: you may need to restart the kernel to use updated packages.\n"
     ]
    }
   ],
   "source": [
    "pip install pycountry"
   ]
  },
  {
   "cell_type": "code",
   "execution_count": 2,
   "id": "bc17f2ee",
   "metadata": {
    "ExecuteTime": {
     "end_time": "2024-11-20T05:04:12.324168Z",
     "start_time": "2024-11-20T05:04:09.792066Z"
    }
   },
   "outputs": [],
   "source": [
    "import pandas as pd\n",
    "import pycountry\n",
    "import numpy as np\n",
    "import json\n",
    "\n",
    "import seaborn as sns\n",
    "import matplotlib.pyplot as plt\n",
    "import matplotlib.ticker as ticker\n",
    "\n",
    "from sklearn.preprocessing import MinMaxScaler"
   ]
  },
  {
   "cell_type": "code",
   "execution_count": 3,
   "id": "f1ae0718",
   "metadata": {
    "ExecuteTime": {
     "end_time": "2024-11-20T05:04:12.329037Z",
     "start_time": "2024-11-20T05:04:12.325918Z"
    }
   },
   "outputs": [],
   "source": [
    "import warnings\n",
    "warnings.filterwarnings('ignore')\n",
    "\n",
    "pd.options.display.float_format = '{:,.2f}'.format\n",
    "\n",
    "# Define rcParams settings as a dictionary\n",
    "plot_settings = {\n",
    "    'font.size': 14,\n",
    "    'axes.titlesize': 14,\n",
    "    'axes.labelsize': 14,\n",
    "    'xtick.labelsize': 14,\n",
    "    'ytick.labelsize': 14,\n",
    "    'legend.fontsize': 14,\n",
    "}\n",
    "\n",
    "# Apply the settings globally\n",
    "plt.rcParams.update(plot_settings)"
   ]
  },
  {
   "cell_type": "markdown",
   "id": "7f7f198c",
   "metadata": {},
   "source": [
    "## Data Wrangling"
   ]
  },
  {
   "cell_type": "code",
   "execution_count": 4,
   "id": "c9d7352b",
   "metadata": {
    "ExecuteTime": {
     "end_time": "2024-11-20T05:04:12.394656Z",
     "start_time": "2024-11-20T05:04:12.330994Z"
    }
   },
   "outputs": [],
   "source": [
    "df = pd.read_csv('DS Assignment_Dataset.csv')"
   ]
  },
  {
   "cell_type": "code",
   "execution_count": 5,
   "id": "478a2080",
   "metadata": {
    "ExecuteTime": {
     "end_time": "2024-11-20T05:04:12.410674Z",
     "start_time": "2024-11-20T05:04:12.396689Z"
    },
    "scrolled": true
   },
   "outputs": [
    {
     "data": {
      "text/html": [
       "<div>\n",
       "<style scoped>\n",
       "    .dataframe tbody tr th:only-of-type {\n",
       "        vertical-align: middle;\n",
       "    }\n",
       "\n",
       "    .dataframe tbody tr th {\n",
       "        vertical-align: top;\n",
       "    }\n",
       "\n",
       "    .dataframe thead th {\n",
       "        text-align: right;\n",
       "    }\n",
       "</style>\n",
       "<table border=\"1\" class=\"dataframe\">\n",
       "  <thead>\n",
       "    <tr style=\"text-align: right;\">\n",
       "      <th></th>\n",
       "      <th>0</th>\n",
       "      <th>1</th>\n",
       "      <th>2</th>\n",
       "      <th>3</th>\n",
       "      <th>4</th>\n",
       "    </tr>\n",
       "  </thead>\n",
       "  <tbody>\n",
       "    <tr>\n",
       "      <th>REGISTRATION_DATE</th>\n",
       "      <td>2020-09-01 00:00:00</td>\n",
       "      <td>2020-09-01 00:00:00</td>\n",
       "      <td>2020-09-01 00:00:00</td>\n",
       "      <td>2020-09-01 00:00:00</td>\n",
       "      <td>2020-09-01 00:00:00</td>\n",
       "    </tr>\n",
       "    <tr>\n",
       "      <th>REGISTRATION_COUNTRY</th>\n",
       "      <td>SWE</td>\n",
       "      <td>NOR</td>\n",
       "      <td>SWE</td>\n",
       "      <td>NOR</td>\n",
       "      <td>GEO</td>\n",
       "    </tr>\n",
       "    <tr>\n",
       "      <th>PURCHASE_COUNT</th>\n",
       "      <td>0</td>\n",
       "      <td>1</td>\n",
       "      <td>19</td>\n",
       "      <td>0</td>\n",
       "      <td>0</td>\n",
       "    </tr>\n",
       "    <tr>\n",
       "      <th>PURCHASE_COUNT_DELIVERY</th>\n",
       "      <td>NaN</td>\n",
       "      <td>1.00</td>\n",
       "      <td>19.00</td>\n",
       "      <td>NaN</td>\n",
       "      <td>NaN</td>\n",
       "    </tr>\n",
       "    <tr>\n",
       "      <th>PURCHASE_COUNT_TAKEAWAY</th>\n",
       "      <td>NaN</td>\n",
       "      <td>0.00</td>\n",
       "      <td>0.00</td>\n",
       "      <td>NaN</td>\n",
       "      <td>NaN</td>\n",
       "    </tr>\n",
       "    <tr>\n",
       "      <th>FIRST_PURCHASE_DAY</th>\n",
       "      <td>NaN</td>\n",
       "      <td>2021-09-02 00:00:00</td>\n",
       "      <td>2020-12-10 00:00:00</td>\n",
       "      <td>NaN</td>\n",
       "      <td>NaN</td>\n",
       "    </tr>\n",
       "    <tr>\n",
       "      <th>LAST_PURCHASE_DAY</th>\n",
       "      <td>NaN</td>\n",
       "      <td>2021-09-02 00:00:00</td>\n",
       "      <td>2021-05-25 00:00:00</td>\n",
       "      <td>NaN</td>\n",
       "      <td>NaN</td>\n",
       "    </tr>\n",
       "    <tr>\n",
       "      <th>USER_ID</th>\n",
       "      <td>1</td>\n",
       "      <td>2</td>\n",
       "      <td>3</td>\n",
       "      <td>4</td>\n",
       "      <td>5</td>\n",
       "    </tr>\n",
       "    <tr>\n",
       "      <th>BREAKFAST_PURCHASES</th>\n",
       "      <td>NaN</td>\n",
       "      <td>0.00</td>\n",
       "      <td>0.00</td>\n",
       "      <td>NaN</td>\n",
       "      <td>NaN</td>\n",
       "    </tr>\n",
       "    <tr>\n",
       "      <th>LUNCH_PURCHASES</th>\n",
       "      <td>NaN</td>\n",
       "      <td>1.00</td>\n",
       "      <td>4.00</td>\n",
       "      <td>NaN</td>\n",
       "      <td>NaN</td>\n",
       "    </tr>\n",
       "    <tr>\n",
       "      <th>EVENING_PURCHASES</th>\n",
       "      <td>NaN</td>\n",
       "      <td>0.00</td>\n",
       "      <td>1.00</td>\n",
       "      <td>NaN</td>\n",
       "      <td>NaN</td>\n",
       "    </tr>\n",
       "    <tr>\n",
       "      <th>DINNER_PURCHASES</th>\n",
       "      <td>NaN</td>\n",
       "      <td>0.00</td>\n",
       "      <td>14.00</td>\n",
       "      <td>NaN</td>\n",
       "      <td>NaN</td>\n",
       "    </tr>\n",
       "    <tr>\n",
       "      <th>LATE_NIGHT_PURCHASES</th>\n",
       "      <td>NaN</td>\n",
       "      <td>0.00</td>\n",
       "      <td>0.00</td>\n",
       "      <td>NaN</td>\n",
       "      <td>NaN</td>\n",
       "    </tr>\n",
       "    <tr>\n",
       "      <th>TOTAL_PURCHASES_EUR</th>\n",
       "      <td>NaN</td>\n",
       "      <td>38.46</td>\n",
       "      <td>631.49</td>\n",
       "      <td>NaN</td>\n",
       "      <td>NaN</td>\n",
       "    </tr>\n",
       "    <tr>\n",
       "      <th>DISTINCT_PURCHASE_VENUE_COUNT</th>\n",
       "      <td>NaN</td>\n",
       "      <td>1.00</td>\n",
       "      <td>9.00</td>\n",
       "      <td>NaN</td>\n",
       "      <td>NaN</td>\n",
       "    </tr>\n",
       "    <tr>\n",
       "      <th>MIN_PURCHASE_VALUE_EUR</th>\n",
       "      <td>NaN</td>\n",
       "      <td>38.53</td>\n",
       "      <td>20.28</td>\n",
       "      <td>NaN</td>\n",
       "      <td>NaN</td>\n",
       "    </tr>\n",
       "    <tr>\n",
       "      <th>MAX_PURCHASE_VALUE_EUR</th>\n",
       "      <td>NaN</td>\n",
       "      <td>38.61</td>\n",
       "      <td>43.69</td>\n",
       "      <td>NaN</td>\n",
       "      <td>NaN</td>\n",
       "    </tr>\n",
       "    <tr>\n",
       "      <th>AVG_PURCHASE_VALUE_EUR</th>\n",
       "      <td>NaN</td>\n",
       "      <td>38.46</td>\n",
       "      <td>33.40</td>\n",
       "      <td>NaN</td>\n",
       "      <td>NaN</td>\n",
       "    </tr>\n",
       "    <tr>\n",
       "      <th>PREFERRED_DEVICE</th>\n",
       "      <td>ios</td>\n",
       "      <td>android</td>\n",
       "      <td>android</td>\n",
       "      <td>android</td>\n",
       "      <td>android</td>\n",
       "    </tr>\n",
       "    <tr>\n",
       "      <th>IOS_PURCHASES</th>\n",
       "      <td>NaN</td>\n",
       "      <td>0.00</td>\n",
       "      <td>0.00</td>\n",
       "      <td>NaN</td>\n",
       "      <td>NaN</td>\n",
       "    </tr>\n",
       "    <tr>\n",
       "      <th>WEB_PURCHASES</th>\n",
       "      <td>NaN</td>\n",
       "      <td>0.00</td>\n",
       "      <td>19.00</td>\n",
       "      <td>NaN</td>\n",
       "      <td>NaN</td>\n",
       "    </tr>\n",
       "    <tr>\n",
       "      <th>ANDROID_PURCHASES</th>\n",
       "      <td>NaN</td>\n",
       "      <td>1.00</td>\n",
       "      <td>0.00</td>\n",
       "      <td>NaN</td>\n",
       "      <td>NaN</td>\n",
       "    </tr>\n",
       "    <tr>\n",
       "      <th>PREFERRED_RESTAURANT_TYPES</th>\n",
       "      <td>NaN</td>\n",
       "      <td>NaN</td>\n",
       "      <td>NaN</td>\n",
       "      <td>NaN</td>\n",
       "      <td>NaN</td>\n",
       "    </tr>\n",
       "    <tr>\n",
       "      <th>USER_HAS_VALID_PAYMENT_METHOD</th>\n",
       "      <td>False</td>\n",
       "      <td>False</td>\n",
       "      <td>True</td>\n",
       "      <td>False</td>\n",
       "      <td>False</td>\n",
       "    </tr>\n",
       "    <tr>\n",
       "      <th>MOST_COMMON_HOUR_OF_THE_DAY_TO_PURCHASE</th>\n",
       "      <td>NaN</td>\n",
       "      <td>23.00</td>\n",
       "      <td>21.00</td>\n",
       "      <td>NaN</td>\n",
       "      <td>NaN</td>\n",
       "    </tr>\n",
       "    <tr>\n",
       "      <th>MOST_COMMON_WEEKDAY_TO_PURCHASE</th>\n",
       "      <td>NaN</td>\n",
       "      <td>2.00</td>\n",
       "      <td>2.00</td>\n",
       "      <td>NaN</td>\n",
       "      <td>NaN</td>\n",
       "    </tr>\n",
       "    <tr>\n",
       "      <th>AVG_DAYS_BETWEEN_PURCHASES</th>\n",
       "      <td>NaN</td>\n",
       "      <td>NaN</td>\n",
       "      <td>9.00</td>\n",
       "      <td>NaN</td>\n",
       "      <td>NaN</td>\n",
       "    </tr>\n",
       "    <tr>\n",
       "      <th>MEDIAN_DAYS_BETWEEN_PURCHASES</th>\n",
       "      <td>NaN</td>\n",
       "      <td>NaN</td>\n",
       "      <td>3.00</td>\n",
       "      <td>NaN</td>\n",
       "      <td>NaN</td>\n",
       "    </tr>\n",
       "    <tr>\n",
       "      <th>AVERAGE_DELIVERY_DISTANCE_KMS</th>\n",
       "      <td>NaN</td>\n",
       "      <td>6.85</td>\n",
       "      <td>6.56</td>\n",
       "      <td>NaN</td>\n",
       "      <td>NaN</td>\n",
       "    </tr>\n",
       "    <tr>\n",
       "      <th>PURCHASE_COUNT_BY_STORE_TYPE</th>\n",
       "      <td>{\\n  \"General merchandise\": 0,\\n  \"Grocery\": 0...</td>\n",
       "      <td>{\\n  \"General merchandise\": 0,\\n  \"Grocery\": 0...</td>\n",
       "      <td>{\\n  \"General merchandise\": 1,\\n  \"Grocery\": 9...</td>\n",
       "      <td>{\\n  \"General merchandise\": 0,\\n  \"Grocery\": 0...</td>\n",
       "      <td>{\\n  \"General merchandise\": 0,\\n  \"Grocery\": 0...</td>\n",
       "    </tr>\n",
       "  </tbody>\n",
       "</table>\n",
       "</div>"
      ],
      "text/plain": [
       "                                                                                         0   \n",
       "REGISTRATION_DATE                                                      2020-09-01 00:00:00  \\\n",
       "REGISTRATION_COUNTRY                                                                   SWE   \n",
       "PURCHASE_COUNT                                                                           0   \n",
       "PURCHASE_COUNT_DELIVERY                                                                NaN   \n",
       "PURCHASE_COUNT_TAKEAWAY                                                                NaN   \n",
       "FIRST_PURCHASE_DAY                                                                     NaN   \n",
       "LAST_PURCHASE_DAY                                                                      NaN   \n",
       "USER_ID                                                                                  1   \n",
       "BREAKFAST_PURCHASES                                                                    NaN   \n",
       "LUNCH_PURCHASES                                                                        NaN   \n",
       "EVENING_PURCHASES                                                                      NaN   \n",
       "DINNER_PURCHASES                                                                       NaN   \n",
       "LATE_NIGHT_PURCHASES                                                                   NaN   \n",
       "TOTAL_PURCHASES_EUR                                                                    NaN   \n",
       "DISTINCT_PURCHASE_VENUE_COUNT                                                          NaN   \n",
       "MIN_PURCHASE_VALUE_EUR                                                                 NaN   \n",
       "MAX_PURCHASE_VALUE_EUR                                                                 NaN   \n",
       "AVG_PURCHASE_VALUE_EUR                                                                 NaN   \n",
       "PREFERRED_DEVICE                                                                       ios   \n",
       "IOS_PURCHASES                                                                          NaN   \n",
       "WEB_PURCHASES                                                                          NaN   \n",
       "ANDROID_PURCHASES                                                                      NaN   \n",
       "PREFERRED_RESTAURANT_TYPES                                                             NaN   \n",
       "USER_HAS_VALID_PAYMENT_METHOD                                                        False   \n",
       "MOST_COMMON_HOUR_OF_THE_DAY_TO_PURCHASE                                                NaN   \n",
       "MOST_COMMON_WEEKDAY_TO_PURCHASE                                                        NaN   \n",
       "AVG_DAYS_BETWEEN_PURCHASES                                                             NaN   \n",
       "MEDIAN_DAYS_BETWEEN_PURCHASES                                                          NaN   \n",
       "AVERAGE_DELIVERY_DISTANCE_KMS                                                          NaN   \n",
       "PURCHASE_COUNT_BY_STORE_TYPE             {\\n  \"General merchandise\": 0,\\n  \"Grocery\": 0...   \n",
       "\n",
       "                                                                                         1   \n",
       "REGISTRATION_DATE                                                      2020-09-01 00:00:00  \\\n",
       "REGISTRATION_COUNTRY                                                                   NOR   \n",
       "PURCHASE_COUNT                                                                           1   \n",
       "PURCHASE_COUNT_DELIVERY                                                               1.00   \n",
       "PURCHASE_COUNT_TAKEAWAY                                                               0.00   \n",
       "FIRST_PURCHASE_DAY                                                     2021-09-02 00:00:00   \n",
       "LAST_PURCHASE_DAY                                                      2021-09-02 00:00:00   \n",
       "USER_ID                                                                                  2   \n",
       "BREAKFAST_PURCHASES                                                                   0.00   \n",
       "LUNCH_PURCHASES                                                                       1.00   \n",
       "EVENING_PURCHASES                                                                     0.00   \n",
       "DINNER_PURCHASES                                                                      0.00   \n",
       "LATE_NIGHT_PURCHASES                                                                  0.00   \n",
       "TOTAL_PURCHASES_EUR                                                                  38.46   \n",
       "DISTINCT_PURCHASE_VENUE_COUNT                                                         1.00   \n",
       "MIN_PURCHASE_VALUE_EUR                                                               38.53   \n",
       "MAX_PURCHASE_VALUE_EUR                                                               38.61   \n",
       "AVG_PURCHASE_VALUE_EUR                                                               38.46   \n",
       "PREFERRED_DEVICE                                                                   android   \n",
       "IOS_PURCHASES                                                                         0.00   \n",
       "WEB_PURCHASES                                                                         0.00   \n",
       "ANDROID_PURCHASES                                                                     1.00   \n",
       "PREFERRED_RESTAURANT_TYPES                                                             NaN   \n",
       "USER_HAS_VALID_PAYMENT_METHOD                                                        False   \n",
       "MOST_COMMON_HOUR_OF_THE_DAY_TO_PURCHASE                                              23.00   \n",
       "MOST_COMMON_WEEKDAY_TO_PURCHASE                                                       2.00   \n",
       "AVG_DAYS_BETWEEN_PURCHASES                                                             NaN   \n",
       "MEDIAN_DAYS_BETWEEN_PURCHASES                                                          NaN   \n",
       "AVERAGE_DELIVERY_DISTANCE_KMS                                                         6.85   \n",
       "PURCHASE_COUNT_BY_STORE_TYPE             {\\n  \"General merchandise\": 0,\\n  \"Grocery\": 0...   \n",
       "\n",
       "                                                                                         2   \n",
       "REGISTRATION_DATE                                                      2020-09-01 00:00:00  \\\n",
       "REGISTRATION_COUNTRY                                                                   SWE   \n",
       "PURCHASE_COUNT                                                                          19   \n",
       "PURCHASE_COUNT_DELIVERY                                                              19.00   \n",
       "PURCHASE_COUNT_TAKEAWAY                                                               0.00   \n",
       "FIRST_PURCHASE_DAY                                                     2020-12-10 00:00:00   \n",
       "LAST_PURCHASE_DAY                                                      2021-05-25 00:00:00   \n",
       "USER_ID                                                                                  3   \n",
       "BREAKFAST_PURCHASES                                                                   0.00   \n",
       "LUNCH_PURCHASES                                                                       4.00   \n",
       "EVENING_PURCHASES                                                                     1.00   \n",
       "DINNER_PURCHASES                                                                     14.00   \n",
       "LATE_NIGHT_PURCHASES                                                                  0.00   \n",
       "TOTAL_PURCHASES_EUR                                                                 631.49   \n",
       "DISTINCT_PURCHASE_VENUE_COUNT                                                         9.00   \n",
       "MIN_PURCHASE_VALUE_EUR                                                               20.28   \n",
       "MAX_PURCHASE_VALUE_EUR                                                               43.69   \n",
       "AVG_PURCHASE_VALUE_EUR                                                               33.40   \n",
       "PREFERRED_DEVICE                                                                   android   \n",
       "IOS_PURCHASES                                                                         0.00   \n",
       "WEB_PURCHASES                                                                        19.00   \n",
       "ANDROID_PURCHASES                                                                     0.00   \n",
       "PREFERRED_RESTAURANT_TYPES                                                             NaN   \n",
       "USER_HAS_VALID_PAYMENT_METHOD                                                         True   \n",
       "MOST_COMMON_HOUR_OF_THE_DAY_TO_PURCHASE                                              21.00   \n",
       "MOST_COMMON_WEEKDAY_TO_PURCHASE                                                       2.00   \n",
       "AVG_DAYS_BETWEEN_PURCHASES                                                            9.00   \n",
       "MEDIAN_DAYS_BETWEEN_PURCHASES                                                         3.00   \n",
       "AVERAGE_DELIVERY_DISTANCE_KMS                                                         6.56   \n",
       "PURCHASE_COUNT_BY_STORE_TYPE             {\\n  \"General merchandise\": 1,\\n  \"Grocery\": 9...   \n",
       "\n",
       "                                                                                         3   \n",
       "REGISTRATION_DATE                                                      2020-09-01 00:00:00  \\\n",
       "REGISTRATION_COUNTRY                                                                   NOR   \n",
       "PURCHASE_COUNT                                                                           0   \n",
       "PURCHASE_COUNT_DELIVERY                                                                NaN   \n",
       "PURCHASE_COUNT_TAKEAWAY                                                                NaN   \n",
       "FIRST_PURCHASE_DAY                                                                     NaN   \n",
       "LAST_PURCHASE_DAY                                                                      NaN   \n",
       "USER_ID                                                                                  4   \n",
       "BREAKFAST_PURCHASES                                                                    NaN   \n",
       "LUNCH_PURCHASES                                                                        NaN   \n",
       "EVENING_PURCHASES                                                                      NaN   \n",
       "DINNER_PURCHASES                                                                       NaN   \n",
       "LATE_NIGHT_PURCHASES                                                                   NaN   \n",
       "TOTAL_PURCHASES_EUR                                                                    NaN   \n",
       "DISTINCT_PURCHASE_VENUE_COUNT                                                          NaN   \n",
       "MIN_PURCHASE_VALUE_EUR                                                                 NaN   \n",
       "MAX_PURCHASE_VALUE_EUR                                                                 NaN   \n",
       "AVG_PURCHASE_VALUE_EUR                                                                 NaN   \n",
       "PREFERRED_DEVICE                                                                   android   \n",
       "IOS_PURCHASES                                                                          NaN   \n",
       "WEB_PURCHASES                                                                          NaN   \n",
       "ANDROID_PURCHASES                                                                      NaN   \n",
       "PREFERRED_RESTAURANT_TYPES                                                             NaN   \n",
       "USER_HAS_VALID_PAYMENT_METHOD                                                        False   \n",
       "MOST_COMMON_HOUR_OF_THE_DAY_TO_PURCHASE                                                NaN   \n",
       "MOST_COMMON_WEEKDAY_TO_PURCHASE                                                        NaN   \n",
       "AVG_DAYS_BETWEEN_PURCHASES                                                             NaN   \n",
       "MEDIAN_DAYS_BETWEEN_PURCHASES                                                          NaN   \n",
       "AVERAGE_DELIVERY_DISTANCE_KMS                                                          NaN   \n",
       "PURCHASE_COUNT_BY_STORE_TYPE             {\\n  \"General merchandise\": 0,\\n  \"Grocery\": 0...   \n",
       "\n",
       "                                                                                         4  \n",
       "REGISTRATION_DATE                                                      2020-09-01 00:00:00  \n",
       "REGISTRATION_COUNTRY                                                                   GEO  \n",
       "PURCHASE_COUNT                                                                           0  \n",
       "PURCHASE_COUNT_DELIVERY                                                                NaN  \n",
       "PURCHASE_COUNT_TAKEAWAY                                                                NaN  \n",
       "FIRST_PURCHASE_DAY                                                                     NaN  \n",
       "LAST_PURCHASE_DAY                                                                      NaN  \n",
       "USER_ID                                                                                  5  \n",
       "BREAKFAST_PURCHASES                                                                    NaN  \n",
       "LUNCH_PURCHASES                                                                        NaN  \n",
       "EVENING_PURCHASES                                                                      NaN  \n",
       "DINNER_PURCHASES                                                                       NaN  \n",
       "LATE_NIGHT_PURCHASES                                                                   NaN  \n",
       "TOTAL_PURCHASES_EUR                                                                    NaN  \n",
       "DISTINCT_PURCHASE_VENUE_COUNT                                                          NaN  \n",
       "MIN_PURCHASE_VALUE_EUR                                                                 NaN  \n",
       "MAX_PURCHASE_VALUE_EUR                                                                 NaN  \n",
       "AVG_PURCHASE_VALUE_EUR                                                                 NaN  \n",
       "PREFERRED_DEVICE                                                                   android  \n",
       "IOS_PURCHASES                                                                          NaN  \n",
       "WEB_PURCHASES                                                                          NaN  \n",
       "ANDROID_PURCHASES                                                                      NaN  \n",
       "PREFERRED_RESTAURANT_TYPES                                                             NaN  \n",
       "USER_HAS_VALID_PAYMENT_METHOD                                                        False  \n",
       "MOST_COMMON_HOUR_OF_THE_DAY_TO_PURCHASE                                                NaN  \n",
       "MOST_COMMON_WEEKDAY_TO_PURCHASE                                                        NaN  \n",
       "AVG_DAYS_BETWEEN_PURCHASES                                                             NaN  \n",
       "MEDIAN_DAYS_BETWEEN_PURCHASES                                                          NaN  \n",
       "AVERAGE_DELIVERY_DISTANCE_KMS                                                          NaN  \n",
       "PURCHASE_COUNT_BY_STORE_TYPE             {\\n  \"General merchandise\": 0,\\n  \"Grocery\": 0...  "
      ]
     },
     "execution_count": 5,
     "metadata": {},
     "output_type": "execute_result"
    }
   ],
   "source": [
    "df.head(5).T"
   ]
  },
  {
   "cell_type": "code",
   "execution_count": 6,
   "id": "9e90eb9d",
   "metadata": {
    "ExecuteTime": {
     "end_time": "2024-11-20T05:04:12.414073Z",
     "start_time": "2024-11-20T05:04:12.411899Z"
    }
   },
   "outputs": [],
   "source": [
    "# generating the lowercase column names\n",
    "df.columns = df.columns.str.lower()"
   ]
  },
  {
   "cell_type": "code",
   "execution_count": 7,
   "id": "6d1b73d1",
   "metadata": {
    "ExecuteTime": {
     "end_time": "2024-11-20T05:04:12.426836Z",
     "start_time": "2024-11-20T05:04:12.415321Z"
    },
    "scrolled": true
   },
   "outputs": [
    {
     "name": "stdout",
     "output_type": "stream",
     "text": [
      "<class 'pandas.core.frame.DataFrame'>\n",
      "RangeIndex: 21983 entries, 0 to 21982\n",
      "Data columns (total 30 columns):\n",
      " #   Column                                   Non-Null Count  Dtype  \n",
      "---  ------                                   --------------  -----  \n",
      " 0   registration_date                        21983 non-null  object \n",
      " 1   registration_country                     21983 non-null  object \n",
      " 2   purchase_count                           21983 non-null  int64  \n",
      " 3   purchase_count_delivery                  12028 non-null  float64\n",
      " 4   purchase_count_takeaway                  12028 non-null  float64\n",
      " 5   first_purchase_day                       11948 non-null  object \n",
      " 6   last_purchase_day                        12009 non-null  object \n",
      " 7   user_id                                  21983 non-null  int64  \n",
      " 8   breakfast_purchases                      12028 non-null  float64\n",
      " 9   lunch_purchases                          12028 non-null  float64\n",
      " 10  evening_purchases                        12028 non-null  float64\n",
      " 11  dinner_purchases                         12028 non-null  float64\n",
      " 12  late_night_purchases                     12028 non-null  float64\n",
      " 13  total_purchases_eur                      12028 non-null  float64\n",
      " 14  distinct_purchase_venue_count            12028 non-null  float64\n",
      " 15  min_purchase_value_eur                   12028 non-null  float64\n",
      " 16  max_purchase_value_eur                   12028 non-null  float64\n",
      " 17  avg_purchase_value_eur                   12028 non-null  float64\n",
      " 18  preferred_device                         21910 non-null  object \n",
      " 19  ios_purchases                            12028 non-null  float64\n",
      " 20  web_purchases                            12028 non-null  float64\n",
      " 21  android_purchases                        12028 non-null  float64\n",
      " 22  preferred_restaurant_types               2694 non-null   object \n",
      " 23  user_has_valid_payment_method            21983 non-null  bool   \n",
      " 24  most_common_hour_of_the_day_to_purchase  12028 non-null  float64\n",
      " 25  most_common_weekday_to_purchase          12028 non-null  float64\n",
      " 26  avg_days_between_purchases               7832 non-null   float64\n",
      " 27  median_days_between_purchases            7832 non-null   float64\n",
      " 28  average_delivery_distance_kms            12028 non-null  float64\n",
      " 29  purchase_count_by_store_type             21983 non-null  object \n",
      "dtypes: bool(1), float64(20), int64(2), object(7)\n",
      "memory usage: 4.9+ MB\n"
     ]
    }
   ],
   "source": [
    "df.info()"
   ]
  },
  {
   "cell_type": "code",
   "execution_count": 8,
   "id": "8f326435",
   "metadata": {
    "ExecuteTime": {
     "end_time": "2024-11-20T05:04:12.478372Z",
     "start_time": "2024-11-20T05:04:12.428298Z"
    }
   },
   "outputs": [],
   "source": [
    "# converting each element from a JSON string to a Python dictionary using the json.loads function.\n",
    "df['purchase_count_by_store_type'] = df['purchase_count_by_store_type'].apply(json.loads)"
   ]
  },
  {
   "cell_type": "code",
   "execution_count": 9,
   "id": "955d6246",
   "metadata": {
    "ExecuteTime": {
     "end_time": "2024-11-20T05:04:12.543497Z",
     "start_time": "2024-11-20T05:04:12.479643Z"
    }
   },
   "outputs": [],
   "source": [
    "# Now explanding \n",
    "categories_expanded = pd.json_normalize(df['purchase_count_by_store_type'])"
   ]
  },
  {
   "cell_type": "code",
   "execution_count": 10,
   "id": "bf0d3efa",
   "metadata": {
    "ExecuteTime": {
     "end_time": "2024-11-20T05:04:12.549641Z",
     "start_time": "2024-11-20T05:04:12.546542Z"
    }
   },
   "outputs": [],
   "source": [
    "# Renaming the columns in a more convenient format\n",
    "categories_expanded.rename(columns={'General merchandise': 'general_merchandise', \n",
    "                           'Pet supplies': 'pet_supplies',\n",
    "                           'Retail store': 'retail_store',\n",
    "                           'Restaurant': 'restaurant',\n",
    "                           'Grocery': 'grocery'}, inplace=True)"
   ]
  },
  {
   "cell_type": "code",
   "execution_count": 11,
   "id": "06cf3cd8",
   "metadata": {
    "ExecuteTime": {
     "end_time": "2024-11-20T05:04:12.561583Z",
     "start_time": "2024-11-20T05:04:12.550891Z"
    }
   },
   "outputs": [],
   "source": [
    "# Concatenate with the original DataFrame\n",
    "df = pd.concat([df.drop('purchase_count_by_store_type', axis=1), categories_expanded], axis=1)"
   ]
  },
  {
   "cell_type": "code",
   "execution_count": 12,
   "id": "363aa35f",
   "metadata": {
    "ExecuteTime": {
     "end_time": "2024-11-20T05:04:12.583007Z",
     "start_time": "2024-11-20T05:04:12.563140Z"
    }
   },
   "outputs": [
    {
     "data": {
      "text/plain": [
       "0"
      ]
     },
     "execution_count": 12,
     "metadata": {},
     "output_type": "execute_result"
    }
   ],
   "source": [
    "# Sum of duplicated rows\n",
    "df.duplicated().sum()"
   ]
  },
  {
   "cell_type": "code",
   "execution_count": 13,
   "id": "e71e994a",
   "metadata": {
    "ExecuteTime": {
     "end_time": "2024-11-20T05:04:12.593397Z",
     "start_time": "2024-11-20T05:04:12.584548Z"
    },
    "code_folding": []
   },
   "outputs": [],
   "source": [
    "# converting string element to list of strings\n",
    "df['preferred_restaurant_types'] = df['preferred_restaurant_types'].apply(\n",
    "    lambda x: json.loads(x) if isinstance(x, str) else x\n",
    ")"
   ]
  },
  {
   "cell_type": "code",
   "execution_count": 14,
   "id": "001d5f0b",
   "metadata": {
    "ExecuteTime": {
     "end_time": "2024-11-20T05:04:12.601243Z",
     "start_time": "2024-11-20T05:04:12.594696Z"
    },
    "scrolled": true
   },
   "outputs": [
    {
     "data": {
      "text/plain": [
       "13                [american]\n",
       "16                [american]\n",
       "17                [japanese]\n",
       "26                 [italian]\n",
       "31                [american]\n",
       "                ...         \n",
       "21921              [mexican]\n",
       "21923             [american]\n",
       "21929              [chinese]\n",
       "21947              [italian]\n",
       "21969    [american, italian]\n",
       "Name: preferred_restaurant_types, Length: 2694, dtype: object"
      ]
     },
     "execution_count": 14,
     "metadata": {},
     "output_type": "execute_result"
    }
   ],
   "source": [
    "df[df['preferred_restaurant_types'].notnull()].preferred_restaurant_types"
   ]
  },
  {
   "cell_type": "code",
   "execution_count": 15,
   "id": "d5fb0912",
   "metadata": {
    "ExecuteTime": {
     "end_time": "2024-11-20T05:04:12.604471Z",
     "start_time": "2024-11-20T05:04:12.602494Z"
    }
   },
   "outputs": [],
   "source": [
    "# Mapping ISO alpha-3 country codes to country name\n",
    "def get_country_name(alpha_3_code):\n",
    "    country = pycountry.countries.get(alpha_3=alpha_3_code)\n",
    "    return country.name if country else None"
   ]
  },
  {
   "cell_type": "code",
   "execution_count": 16,
   "id": "e8b69fa3",
   "metadata": {
    "ExecuteTime": {
     "end_time": "2024-11-20T05:04:12.634000Z",
     "start_time": "2024-11-20T05:04:12.605742Z"
    }
   },
   "outputs": [],
   "source": [
    "df['registration_country_name'] = df.registration_country.apply(get_country_name)"
   ]
  },
  {
   "cell_type": "code",
   "execution_count": 17,
   "id": "1cf23fe0",
   "metadata": {
    "ExecuteTime": {
     "end_time": "2024-11-20T05:04:12.639208Z",
     "start_time": "2024-11-20T05:04:12.635584Z"
    }
   },
   "outputs": [
    {
     "data": {
      "text/plain": [
       "0     Sweden\n",
       "1     Norway\n",
       "2     Sweden\n",
       "3     Norway\n",
       "4    Georgia\n",
       "Name: registration_country_name, dtype: object"
      ]
     },
     "execution_count": 17,
     "metadata": {},
     "output_type": "execute_result"
    }
   ],
   "source": [
    "df.registration_country_name.head(5)"
   ]
  },
  {
   "cell_type": "code",
   "execution_count": 18,
   "id": "8e90ab35",
   "metadata": {
    "ExecuteTime": {
     "end_time": "2024-11-20T05:04:12.651131Z",
     "start_time": "2024-11-20T05:04:12.640577Z"
    }
   },
   "outputs": [],
   "source": [
    "# Changing the date object to a datetime type\n",
    "for date_obj in ['registration_date', 'first_purchase_day', 'last_purchase_day']:\n",
    "    df[date_obj] = pd.to_datetime(df[date_obj])"
   ]
  },
  {
   "cell_type": "code",
   "execution_count": 19,
   "id": "e2e494d1",
   "metadata": {
    "ExecuteTime": {
     "end_time": "2024-11-20T05:04:12.654320Z",
     "start_time": "2024-11-20T05:04:12.652742Z"
    }
   },
   "outputs": [],
   "source": [
    "# Changing the float to time type"
   ]
  },
  {
   "cell_type": "code",
   "execution_count": 20,
   "id": "774dfd92",
   "metadata": {
    "ExecuteTime": {
     "end_time": "2024-11-20T05:04:12.662646Z",
     "start_time": "2024-11-20T05:04:12.655669Z"
    }
   },
   "outputs": [],
   "source": [
    "df['most_common_hour_of_the_day_to_purchase'] = pd.to_datetime(df.most_common_hour_of_the_day_to_purchase, \n",
    "                                                               format='%H').dt.time"
   ]
  },
  {
   "cell_type": "code",
   "execution_count": 21,
   "id": "1cb9c69b",
   "metadata": {
    "ExecuteTime": {
     "end_time": "2024-11-20T05:04:12.669933Z",
     "start_time": "2024-11-20T05:04:12.664197Z"
    }
   },
   "outputs": [
    {
     "data": {
      "text/plain": [
       "1     23:00:00\n",
       "2     21:00:00\n",
       "7     05:00:00\n",
       "12    07:00:00\n",
       "13    05:00:00\n",
       "Name: most_common_hour_of_the_day_to_purchase, dtype: object"
      ]
     },
     "execution_count": 21,
     "metadata": {},
     "output_type": "execute_result"
    }
   ],
   "source": [
    "df[df['most_common_hour_of_the_day_to_purchase'].notnull()]\\\n",
    ".most_common_hour_of_the_day_to_purchase.head()"
   ]
  },
  {
   "cell_type": "code",
   "execution_count": 22,
   "id": "80585df8",
   "metadata": {
    "ExecuteTime": {
     "end_time": "2024-11-20T05:04:12.674593Z",
     "start_time": "2024-11-20T05:04:12.671224Z"
    }
   },
   "outputs": [],
   "source": [
    "df['day_difference_between_first_last_purchase'] = (df['last_purchase_day'] - df['first_purchase_day']).dt.days"
   ]
  },
  {
   "cell_type": "code",
   "execution_count": 23,
   "id": "1c871835",
   "metadata": {
    "ExecuteTime": {
     "end_time": "2024-11-20T05:04:12.679260Z",
     "start_time": "2024-11-20T05:04:12.675847Z"
    }
   },
   "outputs": [
    {
     "data": {
      "text/plain": [
       "59"
      ]
     },
     "execution_count": 23,
     "metadata": {},
     "output_type": "execute_result"
    }
   ],
   "source": [
    "df.registration_country_name.nunique()"
   ]
  },
  {
   "cell_type": "code",
   "execution_count": 24,
   "id": "b301c0b6",
   "metadata": {
    "ExecuteTime": {
     "end_time": "2024-11-20T05:04:12.687164Z",
     "start_time": "2024-11-20T05:04:12.680579Z"
    },
    "scrolled": false
   },
   "outputs": [
    {
     "data": {
      "text/plain": [
       "registration_country_name\n",
       "Norway                      0.47\n",
       "Sweden                      0.84\n",
       "Georgia                     0.97\n",
       "United States               0.98\n",
       "United Kingdom              0.98\n",
       "Denmark                     0.98\n",
       "Estonia                     0.98\n",
       "Germany                     0.98\n",
       "Finland                     0.99\n",
       "Italy                       0.99\n",
       "Poland                      0.99\n",
       "Lithuania                   0.99\n",
       "Spain                       0.99\n",
       "Czechia                     0.99\n",
       "France                      0.99\n",
       "Hungary                     0.99\n",
       "Australia                   0.99\n",
       "Belgium                     0.99\n",
       "Netherlands                 0.99\n",
       "Israel                      0.99\n",
       "Russian Federation          0.99\n",
       "Brazil                      0.99\n",
       "Cyprus                      0.99\n",
       "India                       1.00\n",
       "Ireland                     1.00\n",
       "Latvia                      1.00\n",
       "Canada                      1.00\n",
       "Qatar                       1.00\n",
       "United Arab Emirates        1.00\n",
       "Japan                       1.00\n",
       "Romania                     1.00\n",
       "Austria                     1.00\n",
       "Portugal                    1.00\n",
       "Croatia                     1.00\n",
       "Singapore                   1.00\n",
       "Switzerland                 1.00\n",
       "Slovakia                    1.00\n",
       "China                       1.00\n",
       "Faroe Islands               1.00\n",
       "Türkiye                     1.00\n",
       "Ukraine                     1.00\n",
       "Azerbaijan                  1.00\n",
       "Chile                       1.00\n",
       "Lebanon                     1.00\n",
       "Colombia                    1.00\n",
       "Iceland                     1.00\n",
       "Jordan                      1.00\n",
       "Philippines                 1.00\n",
       "Pakistan                    1.00\n",
       "Mexico                      1.00\n",
       "Saudi Arabia                1.00\n",
       "Malta                       1.00\n",
       "Slovenia                    1.00\n",
       "Kuwait                      1.00\n",
       "Korea, Republic of          1.00\n",
       "Taiwan, Province of China   1.00\n",
       "Hong Kong                   1.00\n",
       "Guinea                      1.00\n",
       "Greece                      1.00\n",
       "Name: user_id, dtype: float64"
      ]
     },
     "execution_count": 24,
     "metadata": {},
     "output_type": "execute_result"
    }
   ],
   "source": [
    "# calculate the user share for each country\n",
    "df.groupby('registration_country_name').user_id.nunique().sort_values(ascending=False).cumsum()/\\\n",
    "df.user_id.nunique()"
   ]
  },
  {
   "cell_type": "markdown",
   "id": "ec9807c2",
   "metadata": {},
   "source": [
    "In the following analysis we will focus only on Norway, Sweden and Georgia whose user share sum represents already the ~97% of the entire data."
   ]
  },
  {
   "cell_type": "code",
   "execution_count": 25,
   "id": "ed45060a",
   "metadata": {
    "ExecuteTime": {
     "end_time": "2024-11-20T05:04:12.693281Z",
     "start_time": "2024-11-20T05:04:12.688353Z"
    }
   },
   "outputs": [],
   "source": [
    "df1 = df.loc[df.registration_country.isin(['SWE', 'NOR', 'GEO'])]"
   ]
  },
  {
   "cell_type": "code",
   "execution_count": 26,
   "id": "2b803101",
   "metadata": {
    "ExecuteTime": {
     "end_time": "2024-11-20T05:04:12.709164Z",
     "start_time": "2024-11-20T05:04:12.694466Z"
    }
   },
   "outputs": [],
   "source": [
    "# Calculating the share of not null values within a column for each country\n",
    "\n",
    "share_non_null = df1.groupby('registration_country').apply(lambda x: x.notnull().mean())"
   ]
  },
  {
   "cell_type": "code",
   "execution_count": 27,
   "id": "895a32cb",
   "metadata": {
    "ExecuteTime": {
     "end_time": "2024-11-20T05:04:12.716898Z",
     "start_time": "2024-11-20T05:04:12.710670Z"
    },
    "scrolled": false
   },
   "outputs": [
    {
     "data": {
      "text/html": [
       "<div>\n",
       "<style scoped>\n",
       "    .dataframe tbody tr th:only-of-type {\n",
       "        vertical-align: middle;\n",
       "    }\n",
       "\n",
       "    .dataframe tbody tr th {\n",
       "        vertical-align: top;\n",
       "    }\n",
       "\n",
       "    .dataframe thead th {\n",
       "        text-align: right;\n",
       "    }\n",
       "</style>\n",
       "<table border=\"1\" class=\"dataframe\">\n",
       "  <thead>\n",
       "    <tr style=\"text-align: right;\">\n",
       "      <th>registration_country</th>\n",
       "      <th>GEO</th>\n",
       "      <th>NOR</th>\n",
       "      <th>SWE</th>\n",
       "    </tr>\n",
       "  </thead>\n",
       "  <tbody>\n",
       "    <tr>\n",
       "      <th>registration_date</th>\n",
       "      <td>1.00</td>\n",
       "      <td>1.00</td>\n",
       "      <td>1.00</td>\n",
       "    </tr>\n",
       "    <tr>\n",
       "      <th>registration_country</th>\n",
       "      <td>1.00</td>\n",
       "      <td>1.00</td>\n",
       "      <td>1.00</td>\n",
       "    </tr>\n",
       "    <tr>\n",
       "      <th>purchase_count</th>\n",
       "      <td>1.00</td>\n",
       "      <td>1.00</td>\n",
       "      <td>1.00</td>\n",
       "    </tr>\n",
       "    <tr>\n",
       "      <th>purchase_count_delivery</th>\n",
       "      <td>0.50</td>\n",
       "      <td>0.53</td>\n",
       "      <td>0.62</td>\n",
       "    </tr>\n",
       "    <tr>\n",
       "      <th>purchase_count_takeaway</th>\n",
       "      <td>0.50</td>\n",
       "      <td>0.53</td>\n",
       "      <td>0.62</td>\n",
       "    </tr>\n",
       "    <tr>\n",
       "      <th>first_purchase_day</th>\n",
       "      <td>0.50</td>\n",
       "      <td>0.53</td>\n",
       "      <td>0.61</td>\n",
       "    </tr>\n",
       "    <tr>\n",
       "      <th>last_purchase_day</th>\n",
       "      <td>0.50</td>\n",
       "      <td>0.53</td>\n",
       "      <td>0.62</td>\n",
       "    </tr>\n",
       "    <tr>\n",
       "      <th>user_id</th>\n",
       "      <td>1.00</td>\n",
       "      <td>1.00</td>\n",
       "      <td>1.00</td>\n",
       "    </tr>\n",
       "    <tr>\n",
       "      <th>breakfast_purchases</th>\n",
       "      <td>0.50</td>\n",
       "      <td>0.53</td>\n",
       "      <td>0.62</td>\n",
       "    </tr>\n",
       "    <tr>\n",
       "      <th>lunch_purchases</th>\n",
       "      <td>0.50</td>\n",
       "      <td>0.53</td>\n",
       "      <td>0.62</td>\n",
       "    </tr>\n",
       "    <tr>\n",
       "      <th>evening_purchases</th>\n",
       "      <td>0.50</td>\n",
       "      <td>0.53</td>\n",
       "      <td>0.62</td>\n",
       "    </tr>\n",
       "    <tr>\n",
       "      <th>dinner_purchases</th>\n",
       "      <td>0.50</td>\n",
       "      <td>0.53</td>\n",
       "      <td>0.62</td>\n",
       "    </tr>\n",
       "    <tr>\n",
       "      <th>late_night_purchases</th>\n",
       "      <td>0.50</td>\n",
       "      <td>0.53</td>\n",
       "      <td>0.62</td>\n",
       "    </tr>\n",
       "    <tr>\n",
       "      <th>total_purchases_eur</th>\n",
       "      <td>0.50</td>\n",
       "      <td>0.53</td>\n",
       "      <td>0.62</td>\n",
       "    </tr>\n",
       "    <tr>\n",
       "      <th>distinct_purchase_venue_count</th>\n",
       "      <td>0.50</td>\n",
       "      <td>0.53</td>\n",
       "      <td>0.62</td>\n",
       "    </tr>\n",
       "    <tr>\n",
       "      <th>min_purchase_value_eur</th>\n",
       "      <td>0.50</td>\n",
       "      <td>0.53</td>\n",
       "      <td>0.62</td>\n",
       "    </tr>\n",
       "    <tr>\n",
       "      <th>max_purchase_value_eur</th>\n",
       "      <td>0.50</td>\n",
       "      <td>0.53</td>\n",
       "      <td>0.62</td>\n",
       "    </tr>\n",
       "    <tr>\n",
       "      <th>avg_purchase_value_eur</th>\n",
       "      <td>0.50</td>\n",
       "      <td>0.53</td>\n",
       "      <td>0.62</td>\n",
       "    </tr>\n",
       "    <tr>\n",
       "      <th>preferred_device</th>\n",
       "      <td>1.00</td>\n",
       "      <td>1.00</td>\n",
       "      <td>1.00</td>\n",
       "    </tr>\n",
       "    <tr>\n",
       "      <th>ios_purchases</th>\n",
       "      <td>0.50</td>\n",
       "      <td>0.53</td>\n",
       "      <td>0.62</td>\n",
       "    </tr>\n",
       "    <tr>\n",
       "      <th>web_purchases</th>\n",
       "      <td>0.50</td>\n",
       "      <td>0.53</td>\n",
       "      <td>0.62</td>\n",
       "    </tr>\n",
       "    <tr>\n",
       "      <th>android_purchases</th>\n",
       "      <td>0.50</td>\n",
       "      <td>0.53</td>\n",
       "      <td>0.62</td>\n",
       "    </tr>\n",
       "    <tr>\n",
       "      <th>preferred_restaurant_types</th>\n",
       "      <td>0.02</td>\n",
       "      <td>0.13</td>\n",
       "      <td>0.15</td>\n",
       "    </tr>\n",
       "    <tr>\n",
       "      <th>user_has_valid_payment_method</th>\n",
       "      <td>1.00</td>\n",
       "      <td>1.00</td>\n",
       "      <td>1.00</td>\n",
       "    </tr>\n",
       "    <tr>\n",
       "      <th>most_common_hour_of_the_day_to_purchase</th>\n",
       "      <td>0.50</td>\n",
       "      <td>0.53</td>\n",
       "      <td>0.62</td>\n",
       "    </tr>\n",
       "    <tr>\n",
       "      <th>most_common_weekday_to_purchase</th>\n",
       "      <td>0.50</td>\n",
       "      <td>0.53</td>\n",
       "      <td>0.62</td>\n",
       "    </tr>\n",
       "    <tr>\n",
       "      <th>avg_days_between_purchases</th>\n",
       "      <td>0.31</td>\n",
       "      <td>0.35</td>\n",
       "      <td>0.40</td>\n",
       "    </tr>\n",
       "    <tr>\n",
       "      <th>median_days_between_purchases</th>\n",
       "      <td>0.31</td>\n",
       "      <td>0.35</td>\n",
       "      <td>0.40</td>\n",
       "    </tr>\n",
       "    <tr>\n",
       "      <th>average_delivery_distance_kms</th>\n",
       "      <td>0.50</td>\n",
       "      <td>0.53</td>\n",
       "      <td>0.62</td>\n",
       "    </tr>\n",
       "    <tr>\n",
       "      <th>general_merchandise</th>\n",
       "      <td>1.00</td>\n",
       "      <td>1.00</td>\n",
       "      <td>1.00</td>\n",
       "    </tr>\n",
       "    <tr>\n",
       "      <th>grocery</th>\n",
       "      <td>1.00</td>\n",
       "      <td>1.00</td>\n",
       "      <td>1.00</td>\n",
       "    </tr>\n",
       "    <tr>\n",
       "      <th>pet_supplies</th>\n",
       "      <td>1.00</td>\n",
       "      <td>1.00</td>\n",
       "      <td>1.00</td>\n",
       "    </tr>\n",
       "    <tr>\n",
       "      <th>restaurant</th>\n",
       "      <td>1.00</td>\n",
       "      <td>1.00</td>\n",
       "      <td>1.00</td>\n",
       "    </tr>\n",
       "    <tr>\n",
       "      <th>retail_store</th>\n",
       "      <td>1.00</td>\n",
       "      <td>1.00</td>\n",
       "      <td>1.00</td>\n",
       "    </tr>\n",
       "    <tr>\n",
       "      <th>registration_country_name</th>\n",
       "      <td>1.00</td>\n",
       "      <td>1.00</td>\n",
       "      <td>1.00</td>\n",
       "    </tr>\n",
       "    <tr>\n",
       "      <th>day_difference_between_first_last_purchase</th>\n",
       "      <td>0.50</td>\n",
       "      <td>0.53</td>\n",
       "      <td>0.61</td>\n",
       "    </tr>\n",
       "  </tbody>\n",
       "</table>\n",
       "</div>"
      ],
      "text/plain": [
       "registration_country                        GEO  NOR  SWE\n",
       "registration_date                          1.00 1.00 1.00\n",
       "registration_country                       1.00 1.00 1.00\n",
       "purchase_count                             1.00 1.00 1.00\n",
       "purchase_count_delivery                    0.50 0.53 0.62\n",
       "purchase_count_takeaway                    0.50 0.53 0.62\n",
       "first_purchase_day                         0.50 0.53 0.61\n",
       "last_purchase_day                          0.50 0.53 0.62\n",
       "user_id                                    1.00 1.00 1.00\n",
       "breakfast_purchases                        0.50 0.53 0.62\n",
       "lunch_purchases                            0.50 0.53 0.62\n",
       "evening_purchases                          0.50 0.53 0.62\n",
       "dinner_purchases                           0.50 0.53 0.62\n",
       "late_night_purchases                       0.50 0.53 0.62\n",
       "total_purchases_eur                        0.50 0.53 0.62\n",
       "distinct_purchase_venue_count              0.50 0.53 0.62\n",
       "min_purchase_value_eur                     0.50 0.53 0.62\n",
       "max_purchase_value_eur                     0.50 0.53 0.62\n",
       "avg_purchase_value_eur                     0.50 0.53 0.62\n",
       "preferred_device                           1.00 1.00 1.00\n",
       "ios_purchases                              0.50 0.53 0.62\n",
       "web_purchases                              0.50 0.53 0.62\n",
       "android_purchases                          0.50 0.53 0.62\n",
       "preferred_restaurant_types                 0.02 0.13 0.15\n",
       "user_has_valid_payment_method              1.00 1.00 1.00\n",
       "most_common_hour_of_the_day_to_purchase    0.50 0.53 0.62\n",
       "most_common_weekday_to_purchase            0.50 0.53 0.62\n",
       "avg_days_between_purchases                 0.31 0.35 0.40\n",
       "median_days_between_purchases              0.31 0.35 0.40\n",
       "average_delivery_distance_kms              0.50 0.53 0.62\n",
       "general_merchandise                        1.00 1.00 1.00\n",
       "grocery                                    1.00 1.00 1.00\n",
       "pet_supplies                               1.00 1.00 1.00\n",
       "restaurant                                 1.00 1.00 1.00\n",
       "retail_store                               1.00 1.00 1.00\n",
       "registration_country_name                  1.00 1.00 1.00\n",
       "day_difference_between_first_last_purchase 0.50 0.53 0.61"
      ]
     },
     "execution_count": 27,
     "metadata": {},
     "output_type": "execute_result"
    }
   ],
   "source": [
    "share_non_null.T"
   ]
  },
  {
   "cell_type": "code",
   "execution_count": 28,
   "id": "bbadc9e9",
   "metadata": {
    "ExecuteTime": {
     "end_time": "2024-11-20T05:04:12.785128Z",
     "start_time": "2024-11-20T05:04:12.721411Z"
    },
    "scrolled": true
   },
   "outputs": [
    {
     "data": {
      "text/html": [
       "<div>\n",
       "<style scoped>\n",
       "    .dataframe tbody tr th:only-of-type {\n",
       "        vertical-align: middle;\n",
       "    }\n",
       "\n",
       "    .dataframe tbody tr th {\n",
       "        vertical-align: top;\n",
       "    }\n",
       "\n",
       "    .dataframe thead th {\n",
       "        text-align: right;\n",
       "    }\n",
       "</style>\n",
       "<table border=\"1\" class=\"dataframe\">\n",
       "  <thead>\n",
       "    <tr style=\"text-align: right;\">\n",
       "      <th></th>\n",
       "      <th>count</th>\n",
       "      <th>mean</th>\n",
       "      <th>min</th>\n",
       "      <th>25%</th>\n",
       "      <th>50%</th>\n",
       "      <th>75%</th>\n",
       "      <th>max</th>\n",
       "      <th>std</th>\n",
       "    </tr>\n",
       "  </thead>\n",
       "  <tbody>\n",
       "    <tr>\n",
       "      <th>registration_date</th>\n",
       "      <td>21400</td>\n",
       "      <td>2020-09-15 11:36:55.177570304</td>\n",
       "      <td>2020-09-01 00:00:00</td>\n",
       "      <td>2020-09-08 00:00:00</td>\n",
       "      <td>2020-09-15 00:00:00</td>\n",
       "      <td>2020-09-22 00:00:00</td>\n",
       "      <td>2020-09-30 00:00:00</td>\n",
       "      <td>NaN</td>\n",
       "    </tr>\n",
       "    <tr>\n",
       "      <th>purchase_count</th>\n",
       "      <td>21,400.00</td>\n",
       "      <td>3.42</td>\n",
       "      <td>0.00</td>\n",
       "      <td>0.00</td>\n",
       "      <td>1.00</td>\n",
       "      <td>3.00</td>\n",
       "      <td>320.00</td>\n",
       "      <td>8.61</td>\n",
       "    </tr>\n",
       "    <tr>\n",
       "      <th>purchase_count_delivery</th>\n",
       "      <td>11,968.00</td>\n",
       "      <td>5.75</td>\n",
       "      <td>0.00</td>\n",
       "      <td>1.00</td>\n",
       "      <td>2.00</td>\n",
       "      <td>6.00</td>\n",
       "      <td>320.00</td>\n",
       "      <td>10.55</td>\n",
       "    </tr>\n",
       "    <tr>\n",
       "      <th>purchase_count_takeaway</th>\n",
       "      <td>11,968.00</td>\n",
       "      <td>0.37</td>\n",
       "      <td>0.00</td>\n",
       "      <td>0.00</td>\n",
       "      <td>0.00</td>\n",
       "      <td>0.00</td>\n",
       "      <td>44.00</td>\n",
       "      <td>1.42</td>\n",
       "    </tr>\n",
       "    <tr>\n",
       "      <th>first_purchase_day</th>\n",
       "      <td>11888</td>\n",
       "      <td>2020-11-22 06:54:01.453566464</td>\n",
       "      <td>2020-09-01 00:00:00</td>\n",
       "      <td>2020-09-14 00:00:00</td>\n",
       "      <td>2020-09-26 00:00:00</td>\n",
       "      <td>2020-12-28 00:00:00</td>\n",
       "      <td>2021-10-31 00:00:00</td>\n",
       "      <td>NaN</td>\n",
       "    </tr>\n",
       "    <tr>\n",
       "      <th>last_purchase_day</th>\n",
       "      <td>11949</td>\n",
       "      <td>2021-04-19 03:39:27.160431872</td>\n",
       "      <td>2020-09-01 00:00:00</td>\n",
       "      <td>2020-10-11 00:00:00</td>\n",
       "      <td>2021-05-22 00:00:00</td>\n",
       "      <td>2021-09-27 00:00:00</td>\n",
       "      <td>2021-10-31 00:00:00</td>\n",
       "      <td>NaN</td>\n",
       "    </tr>\n",
       "    <tr>\n",
       "      <th>user_id</th>\n",
       "      <td>21,400.00</td>\n",
       "      <td>11,000.49</td>\n",
       "      <td>1.00</td>\n",
       "      <td>5,499.75</td>\n",
       "      <td>11,002.50</td>\n",
       "      <td>16,485.25</td>\n",
       "      <td>21,983.00</td>\n",
       "      <td>6,346.33</td>\n",
       "    </tr>\n",
       "    <tr>\n",
       "      <th>breakfast_purchases</th>\n",
       "      <td>11,968.00</td>\n",
       "      <td>0.19</td>\n",
       "      <td>0.00</td>\n",
       "      <td>0.00</td>\n",
       "      <td>0.00</td>\n",
       "      <td>0.00</td>\n",
       "      <td>52.00</td>\n",
       "      <td>1.11</td>\n",
       "    </tr>\n",
       "    <tr>\n",
       "      <th>lunch_purchases</th>\n",
       "      <td>11,968.00</td>\n",
       "      <td>2.38</td>\n",
       "      <td>0.00</td>\n",
       "      <td>0.00</td>\n",
       "      <td>1.00</td>\n",
       "      <td>2.00</td>\n",
       "      <td>171.00</td>\n",
       "      <td>5.64</td>\n",
       "    </tr>\n",
       "    <tr>\n",
       "      <th>evening_purchases</th>\n",
       "      <td>11,968.00</td>\n",
       "      <td>0.49</td>\n",
       "      <td>0.00</td>\n",
       "      <td>0.00</td>\n",
       "      <td>0.00</td>\n",
       "      <td>0.00</td>\n",
       "      <td>71.00</td>\n",
       "      <td>1.83</td>\n",
       "    </tr>\n",
       "    <tr>\n",
       "      <th>dinner_purchases</th>\n",
       "      <td>11,968.00</td>\n",
       "      <td>3.03</td>\n",
       "      <td>0.00</td>\n",
       "      <td>0.00</td>\n",
       "      <td>1.00</td>\n",
       "      <td>3.00</td>\n",
       "      <td>104.00</td>\n",
       "      <td>5.25</td>\n",
       "    </tr>\n",
       "    <tr>\n",
       "      <th>late_night_purchases</th>\n",
       "      <td>11,968.00</td>\n",
       "      <td>0.00</td>\n",
       "      <td>0.00</td>\n",
       "      <td>0.00</td>\n",
       "      <td>0.00</td>\n",
       "      <td>0.00</td>\n",
       "      <td>0.00</td>\n",
       "      <td>0.00</td>\n",
       "    </tr>\n",
       "    <tr>\n",
       "      <th>total_purchases_eur</th>\n",
       "      <td>11,968.00</td>\n",
       "      <td>176.48</td>\n",
       "      <td>1.01</td>\n",
       "      <td>32.38</td>\n",
       "      <td>75.90</td>\n",
       "      <td>196.33</td>\n",
       "      <td>7,979.62</td>\n",
       "      <td>299.62</td>\n",
       "    </tr>\n",
       "    <tr>\n",
       "      <th>distinct_purchase_venue_count</th>\n",
       "      <td>11,968.00</td>\n",
       "      <td>3.32</td>\n",
       "      <td>1.00</td>\n",
       "      <td>1.00</td>\n",
       "      <td>2.00</td>\n",
       "      <td>4.00</td>\n",
       "      <td>71.00</td>\n",
       "      <td>3.77</td>\n",
       "    </tr>\n",
       "    <tr>\n",
       "      <th>min_purchase_value_eur</th>\n",
       "      <td>11,968.00</td>\n",
       "      <td>24.44</td>\n",
       "      <td>0.00</td>\n",
       "      <td>14.20</td>\n",
       "      <td>19.27</td>\n",
       "      <td>29.41</td>\n",
       "      <td>659.10</td>\n",
       "      <td>18.91</td>\n",
       "    </tr>\n",
       "    <tr>\n",
       "      <th>max_purchase_value_eur</th>\n",
       "      <td>11,968.00</td>\n",
       "      <td>42.09</td>\n",
       "      <td>1.02</td>\n",
       "      <td>23.37</td>\n",
       "      <td>35.56</td>\n",
       "      <td>51.82</td>\n",
       "      <td>3,048.00</td>\n",
       "      <td>41.25</td>\n",
       "    </tr>\n",
       "    <tr>\n",
       "      <th>avg_purchase_value_eur</th>\n",
       "      <td>11,968.00</td>\n",
       "      <td>31.21</td>\n",
       "      <td>1.01</td>\n",
       "      <td>19.23</td>\n",
       "      <td>27.32</td>\n",
       "      <td>38.46</td>\n",
       "      <td>657.80</td>\n",
       "      <td>20.72</td>\n",
       "    </tr>\n",
       "    <tr>\n",
       "      <th>ios_purchases</th>\n",
       "      <td>11,968.00</td>\n",
       "      <td>2.90</td>\n",
       "      <td>0.00</td>\n",
       "      <td>0.00</td>\n",
       "      <td>0.00</td>\n",
       "      <td>2.00</td>\n",
       "      <td>200.00</td>\n",
       "      <td>7.46</td>\n",
       "    </tr>\n",
       "    <tr>\n",
       "      <th>web_purchases</th>\n",
       "      <td>11,968.00</td>\n",
       "      <td>1.06</td>\n",
       "      <td>0.00</td>\n",
       "      <td>0.00</td>\n",
       "      <td>0.00</td>\n",
       "      <td>1.00</td>\n",
       "      <td>196.00</td>\n",
       "      <td>4.79</td>\n",
       "    </tr>\n",
       "    <tr>\n",
       "      <th>android_purchases</th>\n",
       "      <td>11,968.00</td>\n",
       "      <td>2.16</td>\n",
       "      <td>0.00</td>\n",
       "      <td>0.00</td>\n",
       "      <td>0.00</td>\n",
       "      <td>1.00</td>\n",
       "      <td>221.00</td>\n",
       "      <td>6.89</td>\n",
       "    </tr>\n",
       "    <tr>\n",
       "      <th>most_common_weekday_to_purchase</th>\n",
       "      <td>11,968.00</td>\n",
       "      <td>4.01</td>\n",
       "      <td>1.00</td>\n",
       "      <td>2.00</td>\n",
       "      <td>4.00</td>\n",
       "      <td>6.00</td>\n",
       "      <td>7.00</td>\n",
       "      <td>2.01</td>\n",
       "    </tr>\n",
       "    <tr>\n",
       "      <th>avg_days_between_purchases</th>\n",
       "      <td>7,788.00</td>\n",
       "      <td>64.33</td>\n",
       "      <td>0.00</td>\n",
       "      <td>18.00</td>\n",
       "      <td>40.00</td>\n",
       "      <td>81.00</td>\n",
       "      <td>421.00</td>\n",
       "      <td>72.60</td>\n",
       "    </tr>\n",
       "    <tr>\n",
       "      <th>median_days_between_purchases</th>\n",
       "      <td>7,788.00</td>\n",
       "      <td>55.83</td>\n",
       "      <td>0.00</td>\n",
       "      <td>10.00</td>\n",
       "      <td>25.00</td>\n",
       "      <td>68.00</td>\n",
       "      <td>421.00</td>\n",
       "      <td>74.99</td>\n",
       "    </tr>\n",
       "    <tr>\n",
       "      <th>average_delivery_distance_kms</th>\n",
       "      <td>11,968.00</td>\n",
       "      <td>5.96</td>\n",
       "      <td>0.00</td>\n",
       "      <td>2.95</td>\n",
       "      <td>5.93</td>\n",
       "      <td>8.98</td>\n",
       "      <td>12.00</td>\n",
       "      <td>3.47</td>\n",
       "    </tr>\n",
       "    <tr>\n",
       "      <th>general_merchandise</th>\n",
       "      <td>21,400.00</td>\n",
       "      <td>0.07</td>\n",
       "      <td>0.00</td>\n",
       "      <td>0.00</td>\n",
       "      <td>0.00</td>\n",
       "      <td>0.00</td>\n",
       "      <td>1.00</td>\n",
       "      <td>0.25</td>\n",
       "    </tr>\n",
       "    <tr>\n",
       "      <th>grocery</th>\n",
       "      <td>21,400.00</td>\n",
       "      <td>0.59</td>\n",
       "      <td>0.00</td>\n",
       "      <td>0.00</td>\n",
       "      <td>0.00</td>\n",
       "      <td>0.00</td>\n",
       "      <td>110.00</td>\n",
       "      <td>2.99</td>\n",
       "    </tr>\n",
       "    <tr>\n",
       "      <th>pet_supplies</th>\n",
       "      <td>21,400.00</td>\n",
       "      <td>0.01</td>\n",
       "      <td>0.00</td>\n",
       "      <td>0.00</td>\n",
       "      <td>0.00</td>\n",
       "      <td>0.00</td>\n",
       "      <td>1.00</td>\n",
       "      <td>0.09</td>\n",
       "    </tr>\n",
       "    <tr>\n",
       "      <th>restaurant</th>\n",
       "      <td>21,400.00</td>\n",
       "      <td>2.08</td>\n",
       "      <td>0.00</td>\n",
       "      <td>0.00</td>\n",
       "      <td>1.00</td>\n",
       "      <td>3.00</td>\n",
       "      <td>160.00</td>\n",
       "      <td>4.27</td>\n",
       "    </tr>\n",
       "    <tr>\n",
       "      <th>retail_store</th>\n",
       "      <td>21,400.00</td>\n",
       "      <td>0.68</td>\n",
       "      <td>0.00</td>\n",
       "      <td>0.00</td>\n",
       "      <td>0.00</td>\n",
       "      <td>0.00</td>\n",
       "      <td>160.00</td>\n",
       "      <td>3.24</td>\n",
       "    </tr>\n",
       "    <tr>\n",
       "      <th>day_difference_between_first_last_purchase</th>\n",
       "      <td>11,874.00</td>\n",
       "      <td>147.86</td>\n",
       "      <td>0.00</td>\n",
       "      <td>0.00</td>\n",
       "      <td>88.00</td>\n",
       "      <td>304.00</td>\n",
       "      <td>425.00</td>\n",
       "      <td>155.21</td>\n",
       "    </tr>\n",
       "  </tbody>\n",
       "</table>\n",
       "</div>"
      ],
      "text/plain": [
       "                                               count   \n",
       "registration_date                              21400  \\\n",
       "purchase_count                             21,400.00   \n",
       "purchase_count_delivery                    11,968.00   \n",
       "purchase_count_takeaway                    11,968.00   \n",
       "first_purchase_day                             11888   \n",
       "last_purchase_day                              11949   \n",
       "user_id                                    21,400.00   \n",
       "breakfast_purchases                        11,968.00   \n",
       "lunch_purchases                            11,968.00   \n",
       "evening_purchases                          11,968.00   \n",
       "dinner_purchases                           11,968.00   \n",
       "late_night_purchases                       11,968.00   \n",
       "total_purchases_eur                        11,968.00   \n",
       "distinct_purchase_venue_count              11,968.00   \n",
       "min_purchase_value_eur                     11,968.00   \n",
       "max_purchase_value_eur                     11,968.00   \n",
       "avg_purchase_value_eur                     11,968.00   \n",
       "ios_purchases                              11,968.00   \n",
       "web_purchases                              11,968.00   \n",
       "android_purchases                          11,968.00   \n",
       "most_common_weekday_to_purchase            11,968.00   \n",
       "avg_days_between_purchases                  7,788.00   \n",
       "median_days_between_purchases               7,788.00   \n",
       "average_delivery_distance_kms              11,968.00   \n",
       "general_merchandise                        21,400.00   \n",
       "grocery                                    21,400.00   \n",
       "pet_supplies                               21,400.00   \n",
       "restaurant                                 21,400.00   \n",
       "retail_store                               21,400.00   \n",
       "day_difference_between_first_last_purchase 11,874.00   \n",
       "\n",
       "                                                                     mean   \n",
       "registration_date                           2020-09-15 11:36:55.177570304  \\\n",
       "purchase_count                                                       3.42   \n",
       "purchase_count_delivery                                              5.75   \n",
       "purchase_count_takeaway                                              0.37   \n",
       "first_purchase_day                          2020-11-22 06:54:01.453566464   \n",
       "last_purchase_day                           2021-04-19 03:39:27.160431872   \n",
       "user_id                                                         11,000.49   \n",
       "breakfast_purchases                                                  0.19   \n",
       "lunch_purchases                                                      2.38   \n",
       "evening_purchases                                                    0.49   \n",
       "dinner_purchases                                                     3.03   \n",
       "late_night_purchases                                                 0.00   \n",
       "total_purchases_eur                                                176.48   \n",
       "distinct_purchase_venue_count                                        3.32   \n",
       "min_purchase_value_eur                                              24.44   \n",
       "max_purchase_value_eur                                              42.09   \n",
       "avg_purchase_value_eur                                              31.21   \n",
       "ios_purchases                                                        2.90   \n",
       "web_purchases                                                        1.06   \n",
       "android_purchases                                                    2.16   \n",
       "most_common_weekday_to_purchase                                      4.01   \n",
       "avg_days_between_purchases                                          64.33   \n",
       "median_days_between_purchases                                       55.83   \n",
       "average_delivery_distance_kms                                        5.96   \n",
       "general_merchandise                                                  0.07   \n",
       "grocery                                                              0.59   \n",
       "pet_supplies                                                         0.01   \n",
       "restaurant                                                           2.08   \n",
       "retail_store                                                         0.68   \n",
       "day_difference_between_first_last_purchase                         147.86   \n",
       "\n",
       "                                                            min   \n",
       "registration_date                           2020-09-01 00:00:00  \\\n",
       "purchase_count                                             0.00   \n",
       "purchase_count_delivery                                    0.00   \n",
       "purchase_count_takeaway                                    0.00   \n",
       "first_purchase_day                          2020-09-01 00:00:00   \n",
       "last_purchase_day                           2020-09-01 00:00:00   \n",
       "user_id                                                    1.00   \n",
       "breakfast_purchases                                        0.00   \n",
       "lunch_purchases                                            0.00   \n",
       "evening_purchases                                          0.00   \n",
       "dinner_purchases                                           0.00   \n",
       "late_night_purchases                                       0.00   \n",
       "total_purchases_eur                                        1.01   \n",
       "distinct_purchase_venue_count                              1.00   \n",
       "min_purchase_value_eur                                     0.00   \n",
       "max_purchase_value_eur                                     1.02   \n",
       "avg_purchase_value_eur                                     1.01   \n",
       "ios_purchases                                              0.00   \n",
       "web_purchases                                              0.00   \n",
       "android_purchases                                          0.00   \n",
       "most_common_weekday_to_purchase                            1.00   \n",
       "avg_days_between_purchases                                 0.00   \n",
       "median_days_between_purchases                              0.00   \n",
       "average_delivery_distance_kms                              0.00   \n",
       "general_merchandise                                        0.00   \n",
       "grocery                                                    0.00   \n",
       "pet_supplies                                               0.00   \n",
       "restaurant                                                 0.00   \n",
       "retail_store                                               0.00   \n",
       "day_difference_between_first_last_purchase                 0.00   \n",
       "\n",
       "                                                            25%   \n",
       "registration_date                           2020-09-08 00:00:00  \\\n",
       "purchase_count                                             0.00   \n",
       "purchase_count_delivery                                    1.00   \n",
       "purchase_count_takeaway                                    0.00   \n",
       "first_purchase_day                          2020-09-14 00:00:00   \n",
       "last_purchase_day                           2020-10-11 00:00:00   \n",
       "user_id                                                5,499.75   \n",
       "breakfast_purchases                                        0.00   \n",
       "lunch_purchases                                            0.00   \n",
       "evening_purchases                                          0.00   \n",
       "dinner_purchases                                           0.00   \n",
       "late_night_purchases                                       0.00   \n",
       "total_purchases_eur                                       32.38   \n",
       "distinct_purchase_venue_count                              1.00   \n",
       "min_purchase_value_eur                                    14.20   \n",
       "max_purchase_value_eur                                    23.37   \n",
       "avg_purchase_value_eur                                    19.23   \n",
       "ios_purchases                                              0.00   \n",
       "web_purchases                                              0.00   \n",
       "android_purchases                                          0.00   \n",
       "most_common_weekday_to_purchase                            2.00   \n",
       "avg_days_between_purchases                                18.00   \n",
       "median_days_between_purchases                             10.00   \n",
       "average_delivery_distance_kms                              2.95   \n",
       "general_merchandise                                        0.00   \n",
       "grocery                                                    0.00   \n",
       "pet_supplies                                               0.00   \n",
       "restaurant                                                 0.00   \n",
       "retail_store                                               0.00   \n",
       "day_difference_between_first_last_purchase                 0.00   \n",
       "\n",
       "                                                            50%   \n",
       "registration_date                           2020-09-15 00:00:00  \\\n",
       "purchase_count                                             1.00   \n",
       "purchase_count_delivery                                    2.00   \n",
       "purchase_count_takeaway                                    0.00   \n",
       "first_purchase_day                          2020-09-26 00:00:00   \n",
       "last_purchase_day                           2021-05-22 00:00:00   \n",
       "user_id                                               11,002.50   \n",
       "breakfast_purchases                                        0.00   \n",
       "lunch_purchases                                            1.00   \n",
       "evening_purchases                                          0.00   \n",
       "dinner_purchases                                           1.00   \n",
       "late_night_purchases                                       0.00   \n",
       "total_purchases_eur                                       75.90   \n",
       "distinct_purchase_venue_count                              2.00   \n",
       "min_purchase_value_eur                                    19.27   \n",
       "max_purchase_value_eur                                    35.56   \n",
       "avg_purchase_value_eur                                    27.32   \n",
       "ios_purchases                                              0.00   \n",
       "web_purchases                                              0.00   \n",
       "android_purchases                                          0.00   \n",
       "most_common_weekday_to_purchase                            4.00   \n",
       "avg_days_between_purchases                                40.00   \n",
       "median_days_between_purchases                             25.00   \n",
       "average_delivery_distance_kms                              5.93   \n",
       "general_merchandise                                        0.00   \n",
       "grocery                                                    0.00   \n",
       "pet_supplies                                               0.00   \n",
       "restaurant                                                 1.00   \n",
       "retail_store                                               0.00   \n",
       "day_difference_between_first_last_purchase                88.00   \n",
       "\n",
       "                                                            75%   \n",
       "registration_date                           2020-09-22 00:00:00  \\\n",
       "purchase_count                                             3.00   \n",
       "purchase_count_delivery                                    6.00   \n",
       "purchase_count_takeaway                                    0.00   \n",
       "first_purchase_day                          2020-12-28 00:00:00   \n",
       "last_purchase_day                           2021-09-27 00:00:00   \n",
       "user_id                                               16,485.25   \n",
       "breakfast_purchases                                        0.00   \n",
       "lunch_purchases                                            2.00   \n",
       "evening_purchases                                          0.00   \n",
       "dinner_purchases                                           3.00   \n",
       "late_night_purchases                                       0.00   \n",
       "total_purchases_eur                                      196.33   \n",
       "distinct_purchase_venue_count                              4.00   \n",
       "min_purchase_value_eur                                    29.41   \n",
       "max_purchase_value_eur                                    51.82   \n",
       "avg_purchase_value_eur                                    38.46   \n",
       "ios_purchases                                              2.00   \n",
       "web_purchases                                              1.00   \n",
       "android_purchases                                          1.00   \n",
       "most_common_weekday_to_purchase                            6.00   \n",
       "avg_days_between_purchases                                81.00   \n",
       "median_days_between_purchases                             68.00   \n",
       "average_delivery_distance_kms                              8.98   \n",
       "general_merchandise                                        0.00   \n",
       "grocery                                                    0.00   \n",
       "pet_supplies                                               0.00   \n",
       "restaurant                                                 3.00   \n",
       "retail_store                                               0.00   \n",
       "day_difference_between_first_last_purchase               304.00   \n",
       "\n",
       "                                                            max      std  \n",
       "registration_date                           2020-09-30 00:00:00      NaN  \n",
       "purchase_count                                           320.00     8.61  \n",
       "purchase_count_delivery                                  320.00    10.55  \n",
       "purchase_count_takeaway                                   44.00     1.42  \n",
       "first_purchase_day                          2021-10-31 00:00:00      NaN  \n",
       "last_purchase_day                           2021-10-31 00:00:00      NaN  \n",
       "user_id                                               21,983.00 6,346.33  \n",
       "breakfast_purchases                                       52.00     1.11  \n",
       "lunch_purchases                                          171.00     5.64  \n",
       "evening_purchases                                         71.00     1.83  \n",
       "dinner_purchases                                         104.00     5.25  \n",
       "late_night_purchases                                       0.00     0.00  \n",
       "total_purchases_eur                                    7,979.62   299.62  \n",
       "distinct_purchase_venue_count                             71.00     3.77  \n",
       "min_purchase_value_eur                                   659.10    18.91  \n",
       "max_purchase_value_eur                                 3,048.00    41.25  \n",
       "avg_purchase_value_eur                                   657.80    20.72  \n",
       "ios_purchases                                            200.00     7.46  \n",
       "web_purchases                                            196.00     4.79  \n",
       "android_purchases                                        221.00     6.89  \n",
       "most_common_weekday_to_purchase                            7.00     2.01  \n",
       "avg_days_between_purchases                               421.00    72.60  \n",
       "median_days_between_purchases                            421.00    74.99  \n",
       "average_delivery_distance_kms                             12.00     3.47  \n",
       "general_merchandise                                        1.00     0.25  \n",
       "grocery                                                  110.00     2.99  \n",
       "pet_supplies                                               1.00     0.09  \n",
       "restaurant                                               160.00     4.27  \n",
       "retail_store                                             160.00     3.24  \n",
       "day_difference_between_first_last_purchase               425.00   155.21  "
      ]
     },
     "execution_count": 28,
     "metadata": {},
     "output_type": "execute_result"
    }
   ],
   "source": [
    "df1.describe().T"
   ]
  },
  {
   "cell_type": "code",
   "execution_count": 29,
   "id": "d69903be",
   "metadata": {
    "ExecuteTime": {
     "end_time": "2024-11-20T05:04:12.792814Z",
     "start_time": "2024-11-20T05:04:12.786664Z"
    }
   },
   "outputs": [
    {
     "data": {
      "text/plain": [
       "registration_country_name\n",
       "Georgia   0.14\n",
       "Norway    0.48\n",
       "Sweden    0.38\n",
       "Name: user_id, dtype: float64"
      ]
     },
     "execution_count": 29,
     "metadata": {},
     "output_type": "execute_result"
    }
   ],
   "source": [
    "# share of users for each country\n",
    "df1.groupby('registration_country_name').user_id.nunique()/\\\n",
    "df1.user_id.nunique()"
   ]
  },
  {
   "cell_type": "markdown",
   "id": "0951fdb3",
   "metadata": {},
   "source": [
    "The main contributors to the following analysis are Norway (representing 48% of the data) and Sweden (38%). Georgia reflects only the 14% of the selected dataset. "
   ]
  },
  {
   "cell_type": "markdown",
   "id": "668ce7e1",
   "metadata": {},
   "source": [
    "## EDA: Exploration Data Analysis"
   ]
  },
  {
   "cell_type": "code",
   "execution_count": 30,
   "id": "6512d012",
   "metadata": {
    "ExecuteTime": {
     "end_time": "2024-11-20T05:04:12.796816Z",
     "start_time": "2024-11-20T05:04:12.794261Z"
    }
   },
   "outputs": [],
   "source": [
    "# identyfying the users who purchase and not purchase \n",
    "df1['purchasing_users'] = np.where(df1.purchase_count>0, True, False)"
   ]
  },
  {
   "cell_type": "code",
   "execution_count": 31,
   "id": "7e580905",
   "metadata": {
    "ExecuteTime": {
     "end_time": "2024-11-20T05:04:12.804662Z",
     "start_time": "2024-11-20T05:04:12.798172Z"
    },
    "scrolled": false
   },
   "outputs": [
    {
     "data": {
      "text/plain": [
       "55.925233644859816"
      ]
     },
     "execution_count": 31,
     "metadata": {},
     "output_type": "execute_result"
    }
   ],
   "source": [
    "# calculating the share of purchasing users in the dataset\n",
    "(df1[df1.purchasing_users==True].user_id.nunique()/\\\n",
    "df1.user_id.nunique())*100"
   ]
  },
  {
   "cell_type": "code",
   "execution_count": 32,
   "id": "cec0b8da",
   "metadata": {
    "ExecuteTime": {
     "end_time": "2024-11-20T05:04:13.109132Z",
     "start_time": "2024-11-20T05:04:12.806211Z"
    }
   },
   "outputs": [
    {
     "data": {
      "image/png": "[encoded data removed]",
      "text/plain": [
       "<Figure size 2000x1000 with 3 Axes>"
      ]
     },
     "metadata": {},
     "output_type": "display_data"
    }
   ],
   "source": [
    "# creating the graph\n",
    "countries = df1['registration_country_name'].unique()\n",
    "fig, axes = plt.subplots(1,len(countries), figsize=(20, 10))\n",
    "\n",
    "# Ensure axes is iterable even for a single subplot\n",
    "if len(countries) == 1:\n",
    "    axes = [axes]\n",
    "\n",
    "for i, country in enumerate(countries):\n",
    "    ax = axes[i]\n",
    "    country_data = df1[df1['registration_country_name'] == country]\n",
    "\n",
    "    # Calculate the sum of purchases\n",
    "    sums = country_data.groupby(['purchasing_users']).user_id.nunique()\n",
    "    \n",
    "    # Plot pie chart\n",
    "    ax.pie(\n",
    "        sums.values,\n",
    "        labels=sums.index,\n",
    "        autopct='%1.1f%%')\n",
    "           \n",
    "    ax.set_title(f\"Purchasing users' share for {country}\", fontsize=18)\n",
    "\n",
    "plt.tight_layout()\n",
    "plt.show()"
   ]
  },
  {
   "cell_type": "markdown",
   "id": "ea191cd4",
   "metadata": {},
   "source": [
    "Overall, from September 2020 until October 2021 the purchasing share is of ~56%. By looking at each country separately, Sweden has the highest purchasing share (61.7%) compared to Norway and Georgia, for which the purchasing share is if ~53% and 50.4% respectively."
   ]
  },
  {
   "cell_type": "code",
   "execution_count": 33,
   "id": "025ce31b",
   "metadata": {
    "ExecuteTime": {
     "end_time": "2024-11-20T05:04:13.118373Z",
     "start_time": "2024-11-20T05:04:13.110710Z"
    },
    "scrolled": true
   },
   "outputs": [
    {
     "data": {
      "text/plain": [
       "purchasing_users  user_has_valid_payment_method\n",
       "False             False                           0.95\n",
       "                  True                            0.05\n",
       "True              True                            0.59\n",
       "                  False                           0.41\n",
       "Name: proportion, dtype: float64"
      ]
     },
     "execution_count": 33,
     "metadata": {},
     "output_type": "execute_result"
    }
   ],
   "source": [
    "# calculating the share of users having a valid a payment method for non- and purchasing users\n",
    "df1.groupby(['purchasing_users']).user_has_valid_payment_method.value_counts(normalize=True)"
   ]
  },
  {
   "cell_type": "markdown",
   "id": "1fd28d0f",
   "metadata": {},
   "source": [
    "1. The data suggests that most users who are *NOT* purchasing (inactive users) do not have a valid payment method (95% ). This can be a root cause for not placing a purchase.\n",
    "\n",
    "2. Among users who are purchasing, a notable proportion (41%) still lack a valid payment method, which could lead the latter to churn. "
   ]
  },
  {
   "cell_type": "code",
   "execution_count": 34,
   "id": "d2faaa6a",
   "metadata": {
    "ExecuteTime": {
     "end_time": "2024-11-20T05:04:13.305153Z",
     "start_time": "2024-11-20T05:04:13.119640Z"
    },
    "scrolled": true
   },
   "outputs": [
    {
     "data": {
      "image/png": "[encoded data removed]",
      "text/plain": [
       "<Figure size 700x500 with 1 Axes>"
      ]
     },
     "metadata": {},
     "output_type": "display_data"
    }
   ],
   "source": [
    "# Truncate to month-year\n",
    "df1[\"first_purchase_month\"] = df1[\"first_purchase_day\"].dt.to_period('M') \n",
    "ax = df1.groupby('first_purchase_month').count()['first_purchase_day'].plot(kind='bar', figsize=(7, 5))\n",
    "\n",
    "ylabels = [str(int(x)) + 'K' for x in ax.get_yticks()/1000]\n",
    "ax.set_yticklabels(ylabels)\n",
    "\n",
    "ax.set_title('Sum of First Purchases per Month')\n",
    "ax.set_xlabel('Year-Month')\n",
    "ax.set_ylabel('Purchase Count')\n",
    "ax.set_xticklabels(ax.get_xticklabels(), rotation=30)\n",
    "plt.tight_layout()  # Ensure everything fits nicely\n",
    "plt.show()"
   ]
  },
  {
   "cell_type": "code",
   "execution_count": 35,
   "id": "db6c2315",
   "metadata": {
    "ExecuteTime": {
     "end_time": "2024-11-20T05:04:13.462883Z",
     "start_time": "2024-11-20T05:04:13.307142Z"
    },
    "scrolled": false
   },
   "outputs": [
    {
     "data": {
      "image/png": "[encoded data removed]",
      "text/plain": [
       "<Figure size 700x500 with 1 Axes>"
      ]
     },
     "metadata": {},
     "output_type": "display_data"
    }
   ],
   "source": [
    "# Truncate to month-year\n",
    "df1[\"last_purchase_month\"] = df1[\"last_purchase_day\"].dt.to_period('M') \n",
    "ax = df1.groupby('last_purchase_month').count()['last_purchase_day'].plot(kind='bar', figsize=(7, 5))\n",
    "\n",
    "ylabels = [str(int(x)) + 'K' for x in ax.get_yticks()/1000]\n",
    "ax.set_yticklabels(ylabels)\n",
    "\n",
    "ax.set_title('Sum of Last Purchases per Month')\n",
    "ax.set_xlabel('Year-Month')\n",
    "ax.set_ylabel('Purchase Count')\n",
    "ax.set_xticklabels(ax.get_xticklabels(), rotation=30)\n",
    "plt.tight_layout()  # Ensure everything fits nicely\n",
    "plt.show()"
   ]
  },
  {
   "cell_type": "markdown",
   "id": "6a271119",
   "metadata": {},
   "source": [
    "1. **Acquisition vs. Retention:**\n",
    "   - **Acquisition**: A lot of new customers made their first purchase in **September 2020**, but the number of new customers dropped in the following months.\n",
    "   - **Retention**: After **September 2020**, fewer customers continued to make purchases, which might mean they stopped buying over time, or they \"churned\".<br><br>\n",
    "\n",
    "2. **Customer Retention Trend:**\n",
    "   - There was a **spike in last purchases** in **October 2021**, which is higher than in September 2021. This suggests that some customers who bought in 2020 are still buying or coming back in 2021.<br><br>\n",
    "\n",
    "3. **Possible Seasonal Trends:**\n",
    "   - The number of purchases varies each month, which could mean there are certain times of the year with more buying activity, possibly due to **seasons** or **special promotions/campaigns**."
   ]
  },
  {
   "cell_type": "code",
   "execution_count": 36,
   "id": "b2297939",
   "metadata": {
    "ExecuteTime": {
     "end_time": "2024-11-20T05:04:13.469550Z",
     "start_time": "2024-11-20T05:04:13.464296Z"
    }
   },
   "outputs": [
    {
     "data": {
      "text/plain": [
       "count   11,968.00\n",
       "mean       176.48\n",
       "std        299.62\n",
       "min          1.01\n",
       "25%         32.38\n",
       "50%         75.90\n",
       "75%        196.33\n",
       "max      7,979.62\n",
       "Name: total_purchases_eur, dtype: float64"
      ]
     },
     "execution_count": 36,
     "metadata": {},
     "output_type": "execute_result"
    }
   ],
   "source": [
    "# descriptive statistics for total_purchases_eur column\n",
    "df1['total_purchases_eur'].describe()"
   ]
  },
  {
   "cell_type": "markdown",
   "id": "b6bf2653",
   "metadata": {},
   "source": [
    "From the descriptive statistics, it is evident that the median is much lower than the mean, meaning that the distribution has a left skew (for example, most values are concentrated at lower amounts and a few extreme values exist). For this reason we visualize the distribution in a log scale on the y-axis."
   ]
  },
  {
   "cell_type": "code",
   "execution_count": 37,
   "id": "f2cbf6e7",
   "metadata": {
    "ExecuteTime": {
     "end_time": "2024-11-20T05:04:13.858148Z",
     "start_time": "2024-11-20T05:04:13.470706Z"
    },
    "scrolled": true
   },
   "outputs": [
    {
     "data": {
      "image/png": "[encoded data removed]",
      "text/plain": [
       "<Figure size 1200x600 with 1 Axes>"
      ]
     },
     "metadata": {},
     "output_type": "display_data"
    }
   ],
   "source": [
    "# Create the histogram for total_purchases_eur\n",
    "plt.figure(figsize=(12, 6))\n",
    "ax = sns.histplot(df1['total_purchases_eur'], bins=50, color='blue')\n",
    "\n",
    "# Set the y-axis to log scale\n",
    "plt.yscale('log')\n",
    "\n",
    "plt.xticks(range(int(df1['total_purchases_eur'].min()), \n",
    "                int(df1['total_purchases_eur'].max()), 300))\n",
    "plt.xticks(rotation=60) \n",
    "\n",
    "ax.yaxis.set_major_formatter(ticker.FuncFormatter(lambda y, _: '{:g}'.format(y)))\n",
    "\n",
    "# Add titles and labels\n",
    "plt.title('Histogram of Total Purchases in EUR')\n",
    "plt.xlabel('Spending (EUR)')\n",
    "plt.ylabel('#Users')\n",
    "\n",
    "# Show the plot\n",
    "plt.show()"
   ]
  },
  {
   "cell_type": "markdown",
   "id": "13396655",
   "metadata": {},
   "source": [
    "The histogram shows the distribution of total purchases in EUR. Most purchases are concentrated at lower values, with a sharp decline in frequency as purchase amounts increase, indicating that the majority of customers spend smaller amounts. The presence of a few high-value purchases suggests a long-tail distribution, where a small number of customers account for significantly larger spending."
   ]
  },
  {
   "cell_type": "code",
   "execution_count": 38,
   "id": "4f294225",
   "metadata": {
    "ExecuteTime": {
     "end_time": "2024-11-20T05:04:14.011257Z",
     "start_time": "2024-11-20T05:04:13.859697Z"
    },
    "scrolled": false
   },
   "outputs": [
    {
     "data": {
      "text/plain": [
       "Text(0, 0.5, 'Purchase Frequency')"
      ]
     },
     "execution_count": 38,
     "metadata": {},
     "output_type": "execute_result"
    },
    {
     "data": {
      "image/png": "[encoded data removed]",
      "text/plain": [
       "<Figure size 640x480 with 1 Axes>"
      ]
     },
     "metadata": {},
     "output_type": "display_data"
    }
   ],
   "source": [
    "# scatter plot between total_purchases_eur and purchase_count\n",
    "ax = sns.scatterplot(x='total_purchases_eur', y='purchase_count', data=df1)\n",
    "\n",
    "xlabels = [str(int(x)) + 'K' for x in ax.get_xticks()/1000]\n",
    "ax.set_xticklabels(xlabels)\n",
    "\n",
    "plt.xlabel('Spending (EUR)')\n",
    "plt.ylabel('Purchase Frequency')"
   ]
  },
  {
   "cell_type": "code",
   "execution_count": 39,
   "id": "0d75e69b",
   "metadata": {
    "ExecuteTime": {
     "end_time": "2024-11-20T05:04:14.018452Z",
     "start_time": "2024-11-20T05:04:14.012736Z"
    },
    "scrolled": true
   },
   "outputs": [
    {
     "data": {
      "text/html": [
       "<div>\n",
       "<style scoped>\n",
       "    .dataframe tbody tr th:only-of-type {\n",
       "        vertical-align: middle;\n",
       "    }\n",
       "\n",
       "    .dataframe tbody tr th {\n",
       "        vertical-align: top;\n",
       "    }\n",
       "\n",
       "    .dataframe thead th {\n",
       "        text-align: right;\n",
       "    }\n",
       "</style>\n",
       "<table border=\"1\" class=\"dataframe\">\n",
       "  <thead>\n",
       "    <tr style=\"text-align: right;\">\n",
       "      <th></th>\n",
       "      <th>total_purchases_eur</th>\n",
       "      <th>purchase_count</th>\n",
       "    </tr>\n",
       "  </thead>\n",
       "  <tbody>\n",
       "    <tr>\n",
       "      <th>total_purchases_eur</th>\n",
       "      <td>1.00</td>\n",
       "      <td>0.86</td>\n",
       "    </tr>\n",
       "    <tr>\n",
       "      <th>purchase_count</th>\n",
       "      <td>0.86</td>\n",
       "      <td>1.00</td>\n",
       "    </tr>\n",
       "  </tbody>\n",
       "</table>\n",
       "</div>"
      ],
      "text/plain": [
       "                     total_purchases_eur  purchase_count\n",
       "total_purchases_eur                 1.00            0.86\n",
       "purchase_count                      0.86            1.00"
      ]
     },
     "execution_count": 39,
     "metadata": {},
     "output_type": "execute_result"
    }
   ],
   "source": [
    "df1[['total_purchases_eur', 'purchase_count']].corr()"
   ]
  },
  {
   "cell_type": "markdown",
   "id": "7371544c",
   "metadata": {},
   "source": [
    "The scatter plot visualizes the relationship between total purchase value (EUR) and purchase frequency. It shows a positive correlation (corr=.86), where higher purchase values are generally associated with increased frequency. The dense clustering at lower values indicates that most customers have both low purchase frequency and low total purchase values, while outliers in the upper range reflect a small number of high-value, high-frequency customers."
   ]
  },
  {
   "cell_type": "markdown",
   "id": "f4fae304",
   "metadata": {},
   "source": [
    "## RFM as Behavioral Segmentation "
   ]
  },
  {
   "cell_type": "markdown",
   "id": "ce97a677",
   "metadata": {},
   "source": [
    "We have 4 different types of segmentation: \n",
    "\n",
    "1. Demographic Segmentation: Divides the market based on demographic factors like age, gender, income, education, occupation, family size, etc.\n",
    "2. Geographical Segmentation: Segmentation based on location, such as region, country, city, climate, or population density.\n",
    "3. Psychographic Segmentation:  Focuses on lifestyle, personality traits, values, interests, and social status.\n",
    "4. Behavioural Segmentation: Categorizes consumers based on their behavior, such as purchasing habits, usage rates, brand loyalty, or benefits sought.\n",
    "\n",
    "Given the provided data, only the Behavioural Segmentation can be applied. The RFM (Recency, Frequency, and Monetary) is considered a behavioral segmentation method where those customer purchasing behavior's factors are considered:\n",
    "\n",
    "1. Recency (R): How recently a customer made a purchase or interacted with the business.\n",
    "2. Frequency (F): How often a customer makes a purchase or interacts with the business.\n",
    "3. Monetary (M): How much money a customer spends on purchases.\n",
    "\n",
    "For those factors for each user id we considered:\n",
    "- Relative Recency: Days difference between the most recent purchase date within the dataset (data from September 2020 and October 2021) and the last user's purchase date \n",
    "- Relative Frequency: Number of purchases within the time span considered in the dataset\n",
    "- Relative Monetary: Total purchase spending within the time span considered in the dataset"
   ]
  },
  {
   "cell_type": "code",
   "execution_count": 40,
   "id": "4cd31f86",
   "metadata": {
    "ExecuteTime": {
     "end_time": "2024-11-20T05:04:14.025542Z",
     "start_time": "2024-11-20T05:04:14.019831Z"
    }
   },
   "outputs": [],
   "source": [
    "most_recent_purchase_date = df1['last_purchase_day'].max()"
   ]
  },
  {
   "cell_type": "code",
   "execution_count": 41,
   "id": "ac25eb6a",
   "metadata": {
    "ExecuteTime": {
     "end_time": "2024-11-20T05:04:14.033043Z",
     "start_time": "2024-11-20T05:04:14.026846Z"
    },
    "scrolled": true
   },
   "outputs": [
    {
     "data": {
      "text/plain": [
       "Timestamp('2021-10-31 00:00:00')"
      ]
     },
     "execution_count": 41,
     "metadata": {},
     "output_type": "execute_result"
    }
   ],
   "source": [
    "most_recent_purchase_date"
   ]
  },
  {
   "cell_type": "code",
   "execution_count": 42,
   "id": "98240f2c",
   "metadata": {
    "ExecuteTime": {
     "end_time": "2024-11-20T05:04:14.042600Z",
     "start_time": "2024-11-20T05:04:14.034288Z"
    }
   },
   "outputs": [],
   "source": [
    "rfm_df = df1[['user_id', 'registration_country_name', 'last_purchase_day', 'purchase_count', \n",
    "              'total_purchases_eur']].drop_duplicates()"
   ]
  },
  {
   "cell_type": "code",
   "execution_count": 43,
   "id": "67d27cc5",
   "metadata": {
    "ExecuteTime": {
     "end_time": "2024-11-20T05:04:14.047228Z",
     "start_time": "2024-11-20T05:04:14.044212Z"
    },
    "scrolled": false
   },
   "outputs": [
    {
     "data": {
      "text/plain": [
       "107000"
      ]
     },
     "execution_count": 43,
     "metadata": {},
     "output_type": "execute_result"
    }
   ],
   "source": [
    "rfm_df.size"
   ]
  },
  {
   "cell_type": "code",
   "execution_count": 44,
   "id": "fd7a9f5b",
   "metadata": {
    "ExecuteTime": {
     "end_time": "2024-11-20T05:04:14.055763Z",
     "start_time": "2024-11-20T05:04:14.048658Z"
    },
    "scrolled": true
   },
   "outputs": [
    {
     "data": {
      "text/plain": [
       "44.163551401869164"
      ]
     },
     "execution_count": 44,
     "metadata": {},
     "output_type": "execute_result"
    }
   ],
   "source": [
    "((rfm_df.size - rfm_df.dropna().size)/rfm_df.size)*100"
   ]
  },
  {
   "cell_type": "markdown",
   "id": "3e9a41cf",
   "metadata": {},
   "source": [
    "When excluding the missing values from the dataset we lost only <~44% of data."
   ]
  },
  {
   "cell_type": "code",
   "execution_count": 45,
   "id": "62c84b2b",
   "metadata": {
    "ExecuteTime": {
     "end_time": "2024-11-20T05:04:14.062201Z",
     "start_time": "2024-11-20T05:04:14.057037Z"
    }
   },
   "outputs": [],
   "source": [
    "rfm_df.dropna(inplace=True)"
   ]
  },
  {
   "cell_type": "code",
   "execution_count": 46,
   "id": "07468a7a",
   "metadata": {
    "ExecuteTime": {
     "end_time": "2024-11-20T05:04:16.028846Z",
     "start_time": "2024-11-20T05:04:14.063845Z"
    },
    "code_folding": []
   },
   "outputs": [],
   "source": [
    "rfm_df['recency'] = rfm_df.groupby('user_id')['last_purchase_day'].transform(\n",
    "    lambda x: (most_recent_purchase_date - x.max()).days\n",
    ")"
   ]
  },
  {
   "cell_type": "code",
   "execution_count": 47,
   "id": "12d08bd0",
   "metadata": {
    "ExecuteTime": {
     "end_time": "2024-11-20T05:04:16.034487Z",
     "start_time": "2024-11-20T05:04:16.030994Z"
    },
    "scrolled": true
   },
   "outputs": [],
   "source": [
    "rfm_df.rename(columns={'purchase_count': 'frequency', 'total_purchases_eur':'monetary'}, inplace=True)"
   ]
  },
  {
   "cell_type": "code",
   "execution_count": 48,
   "id": "1d26a466",
   "metadata": {
    "ExecuteTime": {
     "end_time": "2024-11-20T05:04:16.044071Z",
     "start_time": "2024-11-20T05:04:16.035842Z"
    }
   },
   "outputs": [
    {
     "data": {
      "text/plain": [
       "registration_country_name\n",
       "Georgia   32.38\n",
       "Norway    74.89\n",
       "Sweden    95.13\n",
       "Name: monetary, dtype: float64"
      ]
     },
     "execution_count": 48,
     "metadata": {},
     "output_type": "execute_result"
    }
   ],
   "source": [
    "rfm_df.groupby('registration_country_name')['monetary'].median()"
   ]
  },
  {
   "cell_type": "markdown",
   "id": "aa2521a3",
   "metadata": {},
   "source": [
    "Customers in Norway, Georgia or Sweden have different spendings due to different income levels, economic conditions, or pricing strategies. Without normalization, customers from countries with higher average Monetary values will be disproportionately placed in higher RFM segments (e.g., high-value customers), while those from countries with lower Monetary values will appear to be lower-value customers, even if their Frequency and Recency are similar.\n",
    "\n",
    "It makes sense to normalize the Monetary feature per country first, so that we can compare customers more fairly within each country. "
   ]
  },
  {
   "cell_type": "code",
   "execution_count": 49,
   "id": "a49bee4f",
   "metadata": {
    "ExecuteTime": {
     "end_time": "2024-11-20T05:04:16.050708Z",
     "start_time": "2024-11-20T05:04:16.045278Z"
    }
   },
   "outputs": [],
   "source": [
    "# normalizing monetary for each country\n",
    "rfm_df['norm_monetary']= rfm_df.groupby('registration_country_name')['monetary'].transform(lambda x: x / x.mean())"
   ]
  },
  {
   "cell_type": "code",
   "execution_count": 50,
   "id": "09f9b483",
   "metadata": {
    "ExecuteTime": {
     "end_time": "2024-11-20T05:04:16.053705Z",
     "start_time": "2024-11-20T05:04:16.051938Z"
    }
   },
   "outputs": [],
   "source": [
    "# rfm_df = rfm_df[['user_id','recency', 'frequency', 'norm_monetary']]"
   ]
  },
  {
   "cell_type": "code",
   "execution_count": 51,
   "id": "7c1766ca",
   "metadata": {
    "ExecuteTime": {
     "end_time": "2024-11-20T05:04:16.064970Z",
     "start_time": "2024-11-20T05:04:16.054797Z"
    }
   },
   "outputs": [
    {
     "data": {
      "text/html": [
       "<div>\n",
       "<style scoped>\n",
       "    .dataframe tbody tr th:only-of-type {\n",
       "        vertical-align: middle;\n",
       "    }\n",
       "\n",
       "    .dataframe tbody tr th {\n",
       "        vertical-align: top;\n",
       "    }\n",
       "\n",
       "    .dataframe thead th {\n",
       "        text-align: right;\n",
       "    }\n",
       "</style>\n",
       "<table border=\"1\" class=\"dataframe\">\n",
       "  <thead>\n",
       "    <tr style=\"text-align: right;\">\n",
       "      <th></th>\n",
       "      <th>user_id</th>\n",
       "      <th>registration_country_name</th>\n",
       "      <th>last_purchase_day</th>\n",
       "      <th>frequency</th>\n",
       "      <th>monetary</th>\n",
       "      <th>recency</th>\n",
       "      <th>norm_monetary</th>\n",
       "    </tr>\n",
       "  </thead>\n",
       "  <tbody>\n",
       "    <tr>\n",
       "      <th>1</th>\n",
       "      <td>2</td>\n",
       "      <td>Norway</td>\n",
       "      <td>2021-09-02</td>\n",
       "      <td>1</td>\n",
       "      <td>38.46</td>\n",
       "      <td>59</td>\n",
       "      <td>0.22</td>\n",
       "    </tr>\n",
       "    <tr>\n",
       "      <th>2</th>\n",
       "      <td>3</td>\n",
       "      <td>Sweden</td>\n",
       "      <td>2021-05-25</td>\n",
       "      <td>19</td>\n",
       "      <td>631.49</td>\n",
       "      <td>159</td>\n",
       "      <td>3.06</td>\n",
       "    </tr>\n",
       "    <tr>\n",
       "      <th>7</th>\n",
       "      <td>8</td>\n",
       "      <td>Norway</td>\n",
       "      <td>2021-10-14</td>\n",
       "      <td>1</td>\n",
       "      <td>19.23</td>\n",
       "      <td>17</td>\n",
       "      <td>0.11</td>\n",
       "    </tr>\n",
       "    <tr>\n",
       "      <th>12</th>\n",
       "      <td>13</td>\n",
       "      <td>Norway</td>\n",
       "      <td>2021-10-27</td>\n",
       "      <td>19</td>\n",
       "      <td>587.97</td>\n",
       "      <td>4</td>\n",
       "      <td>3.43</td>\n",
       "    </tr>\n",
       "    <tr>\n",
       "      <th>13</th>\n",
       "      <td>14</td>\n",
       "      <td>Norway</td>\n",
       "      <td>2021-09-09</td>\n",
       "      <td>2</td>\n",
       "      <td>118.40</td>\n",
       "      <td>52</td>\n",
       "      <td>0.69</td>\n",
       "    </tr>\n",
       "  </tbody>\n",
       "</table>\n",
       "</div>"
      ],
      "text/plain": [
       "    user_id registration_country_name last_purchase_day  frequency  monetary   \n",
       "1         2                    Norway        2021-09-02          1     38.46  \\\n",
       "2         3                    Sweden        2021-05-25         19    631.49   \n",
       "7         8                    Norway        2021-10-14          1     19.23   \n",
       "12       13                    Norway        2021-10-27         19    587.97   \n",
       "13       14                    Norway        2021-09-09          2    118.40   \n",
       "\n",
       "    recency  norm_monetary  \n",
       "1        59           0.22  \n",
       "2       159           3.06  \n",
       "7        17           0.11  \n",
       "12        4           3.43  \n",
       "13       52           0.69  "
      ]
     },
     "execution_count": 51,
     "metadata": {},
     "output_type": "execute_result"
    }
   ],
   "source": [
    "rfm_df.head()"
   ]
  },
  {
   "cell_type": "code",
   "execution_count": 52,
   "id": "f8de363c",
   "metadata": {
    "ExecuteTime": {
     "end_time": "2024-11-20T05:04:16.076249Z",
     "start_time": "2024-11-20T05:04:16.066315Z"
    },
    "scrolled": true
   },
   "outputs": [
    {
     "data": {
      "text/html": [
       "<div>\n",
       "<style scoped>\n",
       "    .dataframe tbody tr th:only-of-type {\n",
       "        vertical-align: middle;\n",
       "    }\n",
       "\n",
       "    .dataframe tbody tr th {\n",
       "        vertical-align: top;\n",
       "    }\n",
       "\n",
       "    .dataframe thead th {\n",
       "        text-align: right;\n",
       "    }\n",
       "</style>\n",
       "<table border=\"1\" class=\"dataframe\">\n",
       "  <thead>\n",
       "    <tr style=\"text-align: right;\">\n",
       "      <th></th>\n",
       "      <th>recency</th>\n",
       "      <th>frequency</th>\n",
       "      <th>norm_monetary</th>\n",
       "    </tr>\n",
       "  </thead>\n",
       "  <tbody>\n",
       "    <tr>\n",
       "      <th>recency</th>\n",
       "      <td>1.00</td>\n",
       "      <td>-0.39</td>\n",
       "      <td>-0.39</td>\n",
       "    </tr>\n",
       "    <tr>\n",
       "      <th>frequency</th>\n",
       "      <td>-0.39</td>\n",
       "      <td>1.00</td>\n",
       "      <td>0.90</td>\n",
       "    </tr>\n",
       "    <tr>\n",
       "      <th>norm_monetary</th>\n",
       "      <td>-0.39</td>\n",
       "      <td>0.90</td>\n",
       "      <td>1.00</td>\n",
       "    </tr>\n",
       "  </tbody>\n",
       "</table>\n",
       "</div>"
      ],
      "text/plain": [
       "               recency  frequency  norm_monetary\n",
       "recency           1.00      -0.39          -0.39\n",
       "frequency        -0.39       1.00           0.90\n",
       "norm_monetary    -0.39       0.90           1.00"
      ]
     },
     "execution_count": 52,
     "metadata": {},
     "output_type": "execute_result"
    }
   ],
   "source": [
    "rfm_df[['recency', 'frequency', 'norm_monetary']].corr()"
   ]
  },
  {
   "cell_type": "markdown",
   "id": "d519e7df",
   "metadata": {},
   "source": [
    "There is a negative correlation between recency and both frequency (-0.39) and norm_monetary (-0.39), suggesting that customers who purchased recently tend to have lower frequency and lower monetary values. This is expected because customers who made recent purchases might not have purchased as often or spent as much over time."
   ]
  },
  {
   "cell_type": "markdown",
   "id": "dff3bf46",
   "metadata": {},
   "source": [
    "Since there is a high positive correlation between **frequency** and **monetary** (0.9) and in order to avoid redudancy in the data we decided to combine them."
   ]
  },
  {
   "cell_type": "code",
   "execution_count": 53,
   "id": "174058ff",
   "metadata": {
    "ExecuteTime": {
     "end_time": "2024-11-20T05:04:16.085390Z",
     "start_time": "2024-11-20T05:04:16.077835Z"
    }
   },
   "outputs": [],
   "source": [
    "# scaling \n",
    "scaler = MinMaxScaler()\n",
    "\n",
    "for column in ['frequency', 'norm_monetary']:\n",
    "    scaled_column_name = f'{column}_scaled' \n",
    "    rfm_df[scaled_column_name] = scaler.fit_transform(rfm_df[[column]])"
   ]
  },
  {
   "cell_type": "code",
   "execution_count": 54,
   "id": "e5a857db",
   "metadata": {
    "ExecuteTime": {
     "end_time": "2024-11-20T05:04:16.089564Z",
     "start_time": "2024-11-20T05:04:16.086550Z"
    },
    "scrolled": true
   },
   "outputs": [],
   "source": [
    "# Assigning weights for Frequency and Monetary\n",
    "w_freq = 0.35 \n",
    "w_monetary = 0.65\n",
    "\n",
    "# Combining Frequency and Monetary into a weighted score\n",
    "rfm_df['Freq_Mon_Combined'] = (w_freq * rfm_df['frequency_scaled'] + w_monetary * rfm_df['norm_monetary_scaled'])"
   ]
  },
  {
   "cell_type": "code",
   "execution_count": 55,
   "id": "e32cabfe",
   "metadata": {
    "ExecuteTime": {
     "end_time": "2024-11-20T05:04:16.100072Z",
     "start_time": "2024-11-20T05:04:16.090832Z"
    },
    "scrolled": false
   },
   "outputs": [],
   "source": [
    "# Computing RFM Scores\n",
    "rfm_df['R_Score'] = pd.qcut(rfm_df['recency'], 5, labels=[5, 4, 3, 2, 1])\n",
    "rfm_df['FM_Combined_Score'] = pd.qcut(rfm_df['Freq_Mon_Combined'], 5, labels=[1, 2, 3, 4, 5])"
   ]
  },
  {
   "cell_type": "code",
   "execution_count": 56,
   "id": "0f55a8be",
   "metadata": {
    "ExecuteTime": {
     "end_time": "2024-11-20T05:04:16.104099Z",
     "start_time": "2024-11-20T05:04:16.101708Z"
    },
    "code_folding": [],
    "scrolled": false
   },
   "outputs": [],
   "source": [
    "# Function to Assign Segments\n",
    "def assign_segment(row):\n",
    "    if row['R_Score'] >= 4 and row['FM_Combined_Score'] >= 4:\n",
    "        return 'Loyal Customers'\n",
    "    elif row['R_Score'] >= 4 and row['FM_Combined_Score'] < 4:\n",
    "        return 'Recent but Low Value'\n",
    "    elif row['R_Score'] < 4 and row['FM_Combined_Score'] >= 4:\n",
    "        return 'High Potential (Lost Big Spenders)'\n",
    "    else:\n",
    "        return 'At-Risk or Churned'"
   ]
  },
  {
   "cell_type": "code",
   "execution_count": 57,
   "id": "86b1e4b0",
   "metadata": {
    "ExecuteTime": {
     "end_time": "2024-11-20T05:04:16.211385Z",
     "start_time": "2024-11-20T05:04:16.105630Z"
    }
   },
   "outputs": [],
   "source": [
    "rfm_df['Customer_Segment'] = rfm_df.apply(assign_segment, axis=1)"
   ]
  },
  {
   "cell_type": "code",
   "execution_count": 58,
   "id": "46514ae2",
   "metadata": {
    "ExecuteTime": {
     "end_time": "2024-11-20T05:04:16.283406Z",
     "start_time": "2024-11-20T05:04:16.212931Z"
    },
    "scrolled": false
   },
   "outputs": [
    {
     "data": {
      "image/png": "[encoded data removed]",
      "text/plain": [
       "<Figure size 640x480 with 1 Axes>"
      ]
     },
     "metadata": {},
     "output_type": "display_data"
    }
   ],
   "source": [
    "plt.pie(rfm_df.Customer_Segment.value_counts(),\n",
    "        labels=rfm_df.Customer_Segment.value_counts().index,\n",
    "        autopct='%.0f%%')\n",
    "plt.title('Customer segmentation')\n",
    "plt.show()"
   ]
  },
  {
   "cell_type": "markdown",
   "id": "2a11ed46",
   "metadata": {},
   "source": [
    "The pie chart shows a large proportion (48%) at risk of churn. While 28% are loyal, there's an opportunity to boost revenue by targeting the 12% of recent but low-value customers and re-engaging high-potential lost big spenders."
   ]
  },
  {
   "cell_type": "code",
   "execution_count": 59,
   "id": "e61026ac",
   "metadata": {
    "ExecuteTime": {
     "end_time": "2024-11-20T05:04:16.442082Z",
     "start_time": "2024-11-20T05:04:16.284930Z"
    }
   },
   "outputs": [
    {
     "data": {
      "text/plain": [
       "<Axes: xlabel='recency', ylabel='Count'>"
      ]
     },
     "execution_count": 59,
     "metadata": {},
     "output_type": "execute_result"
    },
    {
     "data": {
      "image/png": "[encoded data removed]",
      "text/plain": [
       "<Figure size 640x480 with 1 Axes>"
      ]
     },
     "metadata": {},
     "output_type": "display_data"
    }
   ],
   "source": [
    "sns.histplot(rfm_df['recency'], bins=50, color='blue')"
   ]
  },
  {
   "cell_type": "code",
   "execution_count": 60,
   "id": "33798a0c",
   "metadata": {
    "ExecuteTime": {
     "end_time": "2024-11-20T05:04:16.904745Z",
     "start_time": "2024-11-20T05:04:16.443605Z"
    },
    "scrolled": true
   },
   "outputs": [
    {
     "data": {
      "image/png": "[encoded data removed]",
      "text/plain": [
       "<Figure size 640x480 with 1 Axes>"
      ]
     },
     "metadata": {},
     "output_type": "display_data"
    }
   ],
   "source": [
    "sns.histplot(rfm_df['frequency'], bins=50, color='blue')\n",
    "\n",
    "# Set the y-axis to log scale\n",
    "plt.yscale('log')"
   ]
  },
  {
   "cell_type": "code",
   "execution_count": 61,
   "id": "d254383c",
   "metadata": {
    "ExecuteTime": {
     "end_time": "2024-11-20T05:04:16.910330Z",
     "start_time": "2024-11-20T05:04:16.906530Z"
    },
    "scrolled": true
   },
   "outputs": [],
   "source": [
    "# Define your custom order\n",
    "custom_order = ['Loyal Customers', 'High Potential (Lost Big Spenders)', \n",
    "                'Recent but Low Value', 'At-Risk or Churned']\n",
    "\n",
    "# Set the 'Customer_Segment' column as a categorical variable with the custom order\n",
    "rfm_df['Customer_Segment'] = pd.Categorical(rfm_df['Customer_Segment'], categories=custom_order, ordered=True)"
   ]
  },
  {
   "cell_type": "code",
   "execution_count": 62,
   "id": "cfa672bd",
   "metadata": {
    "ExecuteTime": {
     "end_time": "2024-11-20T05:04:16.923857Z",
     "start_time": "2024-11-20T05:04:16.911732Z"
    },
    "scrolled": true
   },
   "outputs": [
    {
     "data": {
      "text/html": [
       "<div>\n",
       "<style scoped>\n",
       "    .dataframe tbody tr th:only-of-type {\n",
       "        vertical-align: middle;\n",
       "    }\n",
       "\n",
       "    .dataframe tbody tr th {\n",
       "        vertical-align: top;\n",
       "    }\n",
       "\n",
       "    .dataframe thead th {\n",
       "        text-align: right;\n",
       "    }\n",
       "</style>\n",
       "<table border=\"1\" class=\"dataframe\">\n",
       "  <thead>\n",
       "    <tr style=\"text-align: right;\">\n",
       "      <th></th>\n",
       "      <th>recency</th>\n",
       "      <th>frequency</th>\n",
       "      <th>monetary</th>\n",
       "    </tr>\n",
       "    <tr>\n",
       "      <th>Customer_Segment</th>\n",
       "      <th></th>\n",
       "      <th></th>\n",
       "      <th></th>\n",
       "    </tr>\n",
       "  </thead>\n",
       "  <tbody>\n",
       "    <tr>\n",
       "      <th>Loyal Customers</th>\n",
       "      <td>18.00</td>\n",
       "      <td>10.00</td>\n",
       "      <td>289.43</td>\n",
       "    </tr>\n",
       "    <tr>\n",
       "      <th>High Potential (Lost Big Spenders)</th>\n",
       "      <td>189.50</td>\n",
       "      <td>6.00</td>\n",
       "      <td>185.70</td>\n",
       "    </tr>\n",
       "    <tr>\n",
       "      <th>Recent but Low Value</th>\n",
       "      <td>36.00</td>\n",
       "      <td>2.00</td>\n",
       "      <td>52.62</td>\n",
       "    </tr>\n",
       "    <tr>\n",
       "      <th>At-Risk or Churned</th>\n",
       "      <td>390.00</td>\n",
       "      <td>1.00</td>\n",
       "      <td>35.42</td>\n",
       "    </tr>\n",
       "  </tbody>\n",
       "</table>\n",
       "</div>"
      ],
      "text/plain": [
       "                                    recency  frequency  monetary\n",
       "Customer_Segment                                                \n",
       "Loyal Customers                       18.00      10.00    289.43\n",
       "High Potential (Lost Big Spenders)   189.50       6.00    185.70\n",
       "Recent but Low Value                  36.00       2.00     52.62\n",
       "At-Risk or Churned                   390.00       1.00     35.42"
      ]
     },
     "execution_count": 62,
     "metadata": {},
     "output_type": "execute_result"
    }
   ],
   "source": [
    "# descriptive stats for the fsactors in RFM (median)\n",
    "rfm_df.groupby('Customer_Segment')[['recency', 'frequency', 'monetary']].median()"
   ]
  },
  {
   "cell_type": "code",
   "execution_count": 63,
   "id": "957747a1",
   "metadata": {
    "ExecuteTime": {
     "end_time": "2024-11-20T05:04:16.939393Z",
     "start_time": "2024-11-20T05:04:16.925476Z"
    }
   },
   "outputs": [],
   "source": [
    "df_final = df1.merge(rfm_df.drop(columns='registration_country_name'), on='user_id', how='inner')"
   ]
  },
  {
   "cell_type": "code",
   "execution_count": 64,
   "id": "a8dff046",
   "metadata": {
    "ExecuteTime": {
     "end_time": "2024-11-20T05:04:16.945845Z",
     "start_time": "2024-11-20T05:04:16.940799Z"
    },
    "scrolled": true
   },
   "outputs": [
    {
     "data": {
      "text/plain": [
       "registration_country_name\n",
       "Georgia   0.13\n",
       "Norway    0.46\n",
       "Sweden    0.42\n",
       "Name: user_id, dtype: float64"
      ]
     },
     "execution_count": 64,
     "metadata": {},
     "output_type": "execute_result"
    }
   ],
   "source": [
    "# calculating the share of active users for each country \n",
    "df_final.groupby('registration_country_name').user_id.nunique()/\\\n",
    "df_final.user_id.nunique()"
   ]
  },
  {
   "cell_type": "markdown",
   "id": "9b036bf5",
   "metadata": {},
   "source": [
    "Also by looking only at the purchasing users, the share of data belonging to each country does change, manly for Sweden for which the share went from 38% to 42%. This is expected since, as we have seen before, Sweden has the highest share of purchasing users compared to the Norway and Georgia."
   ]
  },
  {
   "cell_type": "code",
   "execution_count": 65,
   "id": "2292c457",
   "metadata": {
    "ExecuteTime": {
     "end_time": "2024-11-20T05:04:16.953027Z",
     "start_time": "2024-11-20T05:04:16.947303Z"
    },
    "scrolled": false
   },
   "outputs": [
    {
     "data": {
      "text/plain": [
       "user_has_valid_payment_method\n",
       "True    0.56\n",
       "False   0.44\n",
       "Name: proportion, dtype: float64"
      ]
     },
     "execution_count": 65,
     "metadata": {},
     "output_type": "execute_result"
    }
   ],
   "source": [
    "# calculatin the share of user having a valid payment method for the customer segment At-Risk or Churned\n",
    "df_final[df_final['Customer_Segment'] == 'At-Risk or Churned']\\\n",
    ".user_has_valid_payment_method.value_counts(normalize=True)"
   ]
  },
  {
   "cell_type": "markdown",
   "id": "9164a016",
   "metadata": {},
   "source": [
    "As mentioned before, the customer segment __At-Risk or Churned__ has a higher percentage (56%) of an invalid payment method, meaning that maybe this factor can be a churn factor."
   ]
  },
  {
   "cell_type": "code",
   "execution_count": 66,
   "id": "3cf0b488",
   "metadata": {
    "ExecuteTime": {
     "end_time": "2024-11-20T05:04:16.957811Z",
     "start_time": "2024-11-20T05:04:16.954315Z"
    }
   },
   "outputs": [],
   "source": [
    "def calculate_share(df_final, list_columns):\n",
    "    \n",
    "    data = df_final.groupby('Customer_Segment')[list_columns].sum().reset_index()\n",
    "    \n",
    "    # Set 'Customer_Segment' as index for easier calculation\n",
    "    data.set_index('Customer_Segment', inplace=True)\n",
    "\n",
    "    # Calculate row totals\n",
    "    data['total'] = data.sum(axis=1)\n",
    "\n",
    "    # Calculate percentage for each store type\n",
    "    perc_df = data.drop(columns='total').div(data['total'], axis=0) * 100\n",
    "    \n",
    "    return perc_df"
   ]
  },
  {
   "cell_type": "code",
   "execution_count": 67,
   "id": "a9a022c9",
   "metadata": {
    "ExecuteTime": {
     "end_time": "2024-11-20T05:04:16.970287Z",
     "start_time": "2024-11-20T05:04:16.959037Z"
    },
    "scrolled": true
   },
   "outputs": [],
   "source": [
    "service_perc_df = calculate_share(df_final=df_final , \n",
    "                                  list_columns=['purchase_count_delivery', 'purchase_count_takeaway'])"
   ]
  },
  {
   "cell_type": "code",
   "execution_count": 68,
   "id": "f6a17a94",
   "metadata": {
    "ExecuteTime": {
     "end_time": "2024-11-20T05:04:16.976710Z",
     "start_time": "2024-11-20T05:04:16.971836Z"
    },
    "scrolled": true
   },
   "outputs": [
    {
     "data": {
      "text/html": [
       "<div>\n",
       "<style scoped>\n",
       "    .dataframe tbody tr th:only-of-type {\n",
       "        vertical-align: middle;\n",
       "    }\n",
       "\n",
       "    .dataframe tbody tr th {\n",
       "        vertical-align: top;\n",
       "    }\n",
       "\n",
       "    .dataframe thead th {\n",
       "        text-align: right;\n",
       "    }\n",
       "</style>\n",
       "<table border=\"1\" class=\"dataframe\">\n",
       "  <thead>\n",
       "    <tr style=\"text-align: right;\">\n",
       "      <th></th>\n",
       "      <th>purchase_count_delivery</th>\n",
       "      <th>purchase_count_takeaway</th>\n",
       "    </tr>\n",
       "    <tr>\n",
       "      <th>Customer_Segment</th>\n",
       "      <th></th>\n",
       "      <th></th>\n",
       "    </tr>\n",
       "  </thead>\n",
       "  <tbody>\n",
       "    <tr>\n",
       "      <th>Loyal Customers</th>\n",
       "      <td>94.08</td>\n",
       "      <td>5.92</td>\n",
       "    </tr>\n",
       "    <tr>\n",
       "      <th>High Potential (Lost Big Spenders)</th>\n",
       "      <td>94.89</td>\n",
       "      <td>5.11</td>\n",
       "    </tr>\n",
       "    <tr>\n",
       "      <th>Recent but Low Value</th>\n",
       "      <td>92.14</td>\n",
       "      <td>7.86</td>\n",
       "    </tr>\n",
       "    <tr>\n",
       "      <th>At-Risk or Churned</th>\n",
       "      <td>92.01</td>\n",
       "      <td>7.99</td>\n",
       "    </tr>\n",
       "  </tbody>\n",
       "</table>\n",
       "</div>"
      ],
      "text/plain": [
       "                                    purchase_count_delivery   \n",
       "Customer_Segment                                              \n",
       "Loyal Customers                                       94.08  \\\n",
       "High Potential (Lost Big Spenders)                    94.89   \n",
       "Recent but Low Value                                  92.14   \n",
       "At-Risk or Churned                                    92.01   \n",
       "\n",
       "                                    purchase_count_takeaway  \n",
       "Customer_Segment                                             \n",
       "Loyal Customers                                        5.92  \n",
       "High Potential (Lost Big Spenders)                     5.11  \n",
       "Recent but Low Value                                   7.86  \n",
       "At-Risk or Churned                                     7.99  "
      ]
     },
     "execution_count": 68,
     "metadata": {},
     "output_type": "execute_result"
    }
   ],
   "source": [
    "service_perc_df"
   ]
  },
  {
   "cell_type": "markdown",
   "id": "fb32f3e0",
   "metadata": {},
   "source": [
    "**Insights about _service type (delivery vs takeway)_ for each customer segment:**\n",
    "\n",
    "Across all segments, delivery is the dominant mode of purchase, accounting for over 90% of the activity in every group. This implies that customers strongly prefer convenience, likely valuing the ability to have products brought directly to them."
   ]
  },
  {
   "cell_type": "code",
   "execution_count": 69,
   "id": "87a785ff",
   "metadata": {
    "ExecuteTime": {
     "end_time": "2024-11-20T05:04:16.985849Z",
     "start_time": "2024-11-20T05:04:16.978109Z"
    }
   },
   "outputs": [],
   "source": [
    "df_percent = calculate_share(df_final=df_final , \n",
    "                            list_columns=['general_merchandise', 'grocery', \n",
    "                                      'pet_supplies', 'restaurant', 'retail_store'])"
   ]
  },
  {
   "cell_type": "code",
   "execution_count": 70,
   "id": "4f3fac39",
   "metadata": {
    "ExecuteTime": {
     "end_time": "2024-11-20T05:04:16.993731Z",
     "start_time": "2024-11-20T05:04:16.987305Z"
    },
    "scrolled": true
   },
   "outputs": [
    {
     "data": {
      "text/html": [
       "<div>\n",
       "<style scoped>\n",
       "    .dataframe tbody tr th:only-of-type {\n",
       "        vertical-align: middle;\n",
       "    }\n",
       "\n",
       "    .dataframe tbody tr th {\n",
       "        vertical-align: top;\n",
       "    }\n",
       "\n",
       "    .dataframe thead th {\n",
       "        text-align: right;\n",
       "    }\n",
       "</style>\n",
       "<table border=\"1\" class=\"dataframe\">\n",
       "  <thead>\n",
       "    <tr style=\"text-align: right;\">\n",
       "      <th></th>\n",
       "      <th>general_merchandise</th>\n",
       "      <th>grocery</th>\n",
       "      <th>pet_supplies</th>\n",
       "      <th>restaurant</th>\n",
       "      <th>retail_store</th>\n",
       "    </tr>\n",
       "    <tr>\n",
       "      <th>Customer_Segment</th>\n",
       "      <th></th>\n",
       "      <th></th>\n",
       "      <th></th>\n",
       "      <th></th>\n",
       "      <th></th>\n",
       "    </tr>\n",
       "  </thead>\n",
       "  <tbody>\n",
       "    <tr>\n",
       "      <th>Loyal Customers</th>\n",
       "      <td>2.28</td>\n",
       "      <td>21.24</td>\n",
       "      <td>0.31</td>\n",
       "      <td>51.61</td>\n",
       "      <td>24.55</td>\n",
       "    </tr>\n",
       "    <tr>\n",
       "      <th>High Potential (Lost Big Spenders)</th>\n",
       "      <td>2.61</td>\n",
       "      <td>18.67</td>\n",
       "      <td>0.19</td>\n",
       "      <td>59.30</td>\n",
       "      <td>19.24</td>\n",
       "    </tr>\n",
       "    <tr>\n",
       "      <th>Recent but Low Value</th>\n",
       "      <td>0.00</td>\n",
       "      <td>0.00</td>\n",
       "      <td>0.00</td>\n",
       "      <td>100.00</td>\n",
       "      <td>0.00</td>\n",
       "    </tr>\n",
       "    <tr>\n",
       "      <th>At-Risk or Churned</th>\n",
       "      <td>0.00</td>\n",
       "      <td>0.00</td>\n",
       "      <td>0.00</td>\n",
       "      <td>99.93</td>\n",
       "      <td>0.07</td>\n",
       "    </tr>\n",
       "  </tbody>\n",
       "</table>\n",
       "</div>"
      ],
      "text/plain": [
       "                                    general_merchandise  grocery   \n",
       "Customer_Segment                                                   \n",
       "Loyal Customers                                    2.28    21.24  \\\n",
       "High Potential (Lost Big Spenders)                 2.61    18.67   \n",
       "Recent but Low Value                               0.00     0.00   \n",
       "At-Risk or Churned                                 0.00     0.00   \n",
       "\n",
       "                                    pet_supplies  restaurant  retail_store  \n",
       "Customer_Segment                                                            \n",
       "Loyal Customers                             0.31       51.61         24.55  \n",
       "High Potential (Lost Big Spenders)          0.19       59.30         19.24  \n",
       "Recent but Low Value                        0.00      100.00          0.00  \n",
       "At-Risk or Churned                          0.00       99.93          0.07  "
      ]
     },
     "execution_count": 70,
     "metadata": {},
     "output_type": "execute_result"
    }
   ],
   "source": [
    "df_percent"
   ]
  },
  {
   "cell_type": "markdown",
   "id": "6fce724d",
   "metadata": {},
   "source": [
    "**Insights about _store type_ for each customer segment:**\n",
    "\n",
    "\n",
    "The results reveal distinct purchasing patterns across customer segments:\n",
    "1. **High Potential (Lost Big Spenders)** and **Loyal Customers** show a more balanced distribution, with significant purchases in the restaurant category, and notable engagement in retail stores and grocery  as well. \n",
    "2. **Recent but Low Value**  and **At-Risk or Churned** customers are entirely focused on restaurant purchases (100% and 99% respectively), indicating a strong interest in dining but no engagement with other store types."
   ]
  },
  {
   "cell_type": "code",
   "execution_count": 71,
   "id": "988961da",
   "metadata": {
    "ExecuteTime": {
     "end_time": "2024-11-20T05:04:17.003383Z",
     "start_time": "2024-11-20T05:04:16.995309Z"
    }
   },
   "outputs": [],
   "source": [
    "df_percent2 = calculate_share(df_final=df_final , \n",
    "                            list_columns=['breakfast_purchases', 'lunch_purchases', \n",
    "                                                       'evening_purchases', 'dinner_purchases', \n",
    "                                                       'late_night_purchases',])"
   ]
  },
  {
   "cell_type": "code",
   "execution_count": 72,
   "id": "9b54d952",
   "metadata": {
    "ExecuteTime": {
     "end_time": "2024-11-20T05:04:17.010975Z",
     "start_time": "2024-11-20T05:04:17.004997Z"
    },
    "scrolled": false
   },
   "outputs": [
    {
     "data": {
      "text/html": [
       "<div>\n",
       "<style scoped>\n",
       "    .dataframe tbody tr th:only-of-type {\n",
       "        vertical-align: middle;\n",
       "    }\n",
       "\n",
       "    .dataframe tbody tr th {\n",
       "        vertical-align: top;\n",
       "    }\n",
       "\n",
       "    .dataframe thead th {\n",
       "        text-align: right;\n",
       "    }\n",
       "</style>\n",
       "<table border=\"1\" class=\"dataframe\">\n",
       "  <thead>\n",
       "    <tr style=\"text-align: right;\">\n",
       "      <th></th>\n",
       "      <th>breakfast_purchases</th>\n",
       "      <th>lunch_purchases</th>\n",
       "      <th>evening_purchases</th>\n",
       "      <th>dinner_purchases</th>\n",
       "      <th>late_night_purchases</th>\n",
       "    </tr>\n",
       "    <tr>\n",
       "      <th>Customer_Segment</th>\n",
       "      <th></th>\n",
       "      <th></th>\n",
       "      <th></th>\n",
       "      <th></th>\n",
       "      <th></th>\n",
       "    </tr>\n",
       "  </thead>\n",
       "  <tbody>\n",
       "    <tr>\n",
       "      <th>Loyal Customers</th>\n",
       "      <td>3.12</td>\n",
       "      <td>40.25</td>\n",
       "      <td>7.70</td>\n",
       "      <td>48.94</td>\n",
       "      <td>0.00</td>\n",
       "    </tr>\n",
       "    <tr>\n",
       "      <th>High Potential (Lost Big Spenders)</th>\n",
       "      <td>3.45</td>\n",
       "      <td>36.31</td>\n",
       "      <td>8.78</td>\n",
       "      <td>51.45</td>\n",
       "      <td>0.00</td>\n",
       "    </tr>\n",
       "    <tr>\n",
       "      <th>Recent but Low Value</th>\n",
       "      <td>2.58</td>\n",
       "      <td>37.82</td>\n",
       "      <td>9.13</td>\n",
       "      <td>50.47</td>\n",
       "      <td>0.00</td>\n",
       "    </tr>\n",
       "    <tr>\n",
       "      <th>At-Risk or Churned</th>\n",
       "      <td>3.10</td>\n",
       "      <td>35.58</td>\n",
       "      <td>8.78</td>\n",
       "      <td>52.54</td>\n",
       "      <td>0.00</td>\n",
       "    </tr>\n",
       "  </tbody>\n",
       "</table>\n",
       "</div>"
      ],
      "text/plain": [
       "                                    breakfast_purchases  lunch_purchases   \n",
       "Customer_Segment                                                           \n",
       "Loyal Customers                                    3.12            40.25  \\\n",
       "High Potential (Lost Big Spenders)                 3.45            36.31   \n",
       "Recent but Low Value                               2.58            37.82   \n",
       "At-Risk or Churned                                 3.10            35.58   \n",
       "\n",
       "                                    evening_purchases  dinner_purchases   \n",
       "Customer_Segment                                                          \n",
       "Loyal Customers                                  7.70             48.94  \\\n",
       "High Potential (Lost Big Spenders)               8.78             51.45   \n",
       "Recent but Low Value                             9.13             50.47   \n",
       "At-Risk or Churned                               8.78             52.54   \n",
       "\n",
       "                                    late_night_purchases  \n",
       "Customer_Segment                                          \n",
       "Loyal Customers                                     0.00  \n",
       "High Potential (Lost Big Spenders)                  0.00  \n",
       "Recent but Low Value                                0.00  \n",
       "At-Risk or Churned                                  0.00  "
      ]
     },
     "execution_count": 72,
     "metadata": {},
     "output_type": "execute_result"
    }
   ],
   "source": [
    "df_percent2"
   ]
  },
  {
   "cell_type": "markdown",
   "id": "07dd4377",
   "metadata": {},
   "source": [
    "**Insights about _purchasing behavior during the day_ for each customer segment:**\n",
    "\n",
    "The following analysis examines the purchasing behavior of different customer segments across various times of the day. The data highlights the distribution of purchases in breakfast, lunch, evening, dinner, and late-night categories for each segment.\n",
    "\n",
    "We can see a general consistency in purchasing behavior across customer segments, with only slight variations in the proportions of purchases during different times of the day. The lunch and dinner purchases dominate in all segments, and zero engagement in the late night (after dinner) time.\n",
    "\n",
    "For the __At-Risk or Churned__ customers the suggestion to the business stakeholders would be to send more deals/promotions during lunch or dinner, because the probability to redirect them back to the service is higher during this time of the day."
   ]
  },
  {
   "cell_type": "code",
   "execution_count": 73,
   "id": "aad7aeb8",
   "metadata": {
    "ExecuteTime": {
     "end_time": "2024-11-20T05:04:17.025532Z",
     "start_time": "2024-11-20T05:04:17.012355Z"
    },
    "scrolled": true
   },
   "outputs": [
    {
     "data": {
      "text/plain": [
       "Customer_Segment                    preferred_device\n",
       "Loyal Customers                     ios                0.45\n",
       "                                    android            0.33\n",
       "                                    web                0.22\n",
       "High Potential (Lost Big Spenders)  ios                0.43\n",
       "                                    android            0.32\n",
       "                                    web                0.25\n",
       "Recent but Low Value                ios                0.48\n",
       "                                    android            0.39\n",
       "                                    web                0.13\n",
       "At-Risk or Churned                  ios                0.43\n",
       "                                    android            0.34\n",
       "                                    web                0.23\n",
       "Name: proportion, dtype: float64"
      ]
     },
     "execution_count": 73,
     "metadata": {},
     "output_type": "execute_result"
    }
   ],
   "source": [
    "df_final.groupby('Customer_Segment')[['preferred_device']].value_counts(normalize=True)"
   ]
  },
  {
   "cell_type": "markdown",
   "id": "cd88a8e3",
   "metadata": {},
   "source": [
    "**Insights about _preferred device_ for each customer segment:**\n",
    "\n",
    "The above analysis shows the proportion of preferred devices across customer segments. \n",
    "\n",
    "iOS is the dominant platform across all groups, particularly among high-value and loyal customers, while Android sees its highest share in the **Recent but Low Value** segment (39%). Web usage is relatively low in all segments, with the lowest engagement in newer, lower-value customers, indicating a strong preference for mobile platforms.\n",
    "\n",
    "These insights highlight the importance of prioritizing mobile channels, particularly iOS, while exploring strategies to enhance engagement on Android and web platforms."
   ]
  }
 ],
 "metadata": {
  "hide_input": false,
  "kernelspec": {
   "display_name": "Python [conda env:root] *",
   "language": "python",
   "name": "conda-root-py"
  },
  "language_info": {
   "codemirror_mode": {
    "name": "ipython",
    "version": 3
   },
   "file_extension": ".py",
   "mimetype": "text/x-python",
   "name": "python",
   "nbconvert_exporter": "python",
   "pygments_lexer": "ipython3",
   "version": "3.9.17"
  }
 },
 "nbformat": 4,
 "nbformat_minor": 5
}
